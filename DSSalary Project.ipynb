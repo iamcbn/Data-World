{
    "metadata": {
        "kernelspec": {
            "name": "SQL",
            "display_name": "SQL",
            "language": "sql"
        },
        "language_info": {
            "name": "sql",
            "version": ""
        }
    },
    "nbformat_minor": 2,
    "nbformat": 4,
    "cells": [
        {
            "cell_type": "markdown",
            "source": [
                "# **DATA WORLD**\n",
                "\n",
                "Hello, join me in exploring the world of data.\n",
                "\n",
                "This is to determine the salary of different data professionals based on their expertise, company and even their job roles.\n",
                "\n",
                "This project is divided into two sections. Section A is data preparation and transformation while the second section is the EDA."
            ],
            "metadata": {
                "azdata_cell_guid": "343909cd-2385-42f9-bdef-20897a65b45f"
            },
            "attachments": {}
        },
        {
            "cell_type": "markdown",
            "source": [
                "# **SECTION ONE**\n",
                "\n",
                "This section is our transformation section. Here, I modified the table by replacing abbreviated data"
            ],
            "metadata": {
                "azdata_cell_guid": "e761ed2a-eb87-4305-bd4b-970e8d4f646d"
            },
            "attachments": {}
        },
        {
            "cell_type": "markdown",
            "source": [
                "<span style=\"color: var(--vscode-foreground);\">I was inspecting the columns contained in the table.</span>"
            ],
            "metadata": {
                "azdata_cell_guid": "b789c42b-c787-4a30-a461-8dd7f9200440"
            },
            "attachments": {}
        },
        {
            "cell_type": "code",
            "source": [
                "SELECT * FROM DSSalary.dbo.Salaries"
            ],
            "metadata": {
                "azdata_cell_guid": "30f0540e-6d91-404c-a820-4274e622dda5",
                "language": "sql"
            },
            "outputs": [],
            "execution_count": null
        },
        {
            "cell_type": "markdown",
            "source": [
                "After inspecting the table, I noticed that some of the columns contained abbreviated data. I had to change that."
            ],
            "metadata": {
                "language": "sql",
                "azdata_cell_guid": "f62b9298-b9fb-4962-be6c-e0db99cea454"
            },
            "attachments": {}
        },
        {
            "cell_type": "code",
            "source": [
                "SELECT DISTINCT experience_level, \r\n",
                "\tCASE experience_level\r\n",
                "\t\tWHEN 'MI' THEN 'Mid-level'\r\n",
                "\t\tWHEN 'SE' THEN 'Senior-level'\r\n",
                "\t\tWHEN 'EX' THEN 'Executive-level'\r\n",
                "\t\tELSE 'Entry-level'\r\n",
                "\tEND AS updated_experience_level\r\n",
                "FROM Salaries"
            ],
            "metadata": {
                "language": "sql",
                "azdata_cell_guid": "deeb4a6b-1593-4e2c-9422-95cb7aca0b21"
            },
            "outputs": [],
            "execution_count": null
        },
        {
            "cell_type": "markdown",
            "source": [
                "Since, I had written a query to replace abbreviated data in the column, <span style=\"color: rgb(33, 33, 33); font-family: Consolas, &quot;Courier New&quot;, monospace; font-size: 12px; white-space: pre;\">experience_level</span><span style=\"color: var(--vscode-foreground);\">, it is time to update the table.</span>"
            ],
            "metadata": {
                "azdata_cell_guid": "de8414c4-20e8-4771-b9bc-806b7ed3df51"
            },
            "attachments": {}
        },
        {
            "cell_type": "code",
            "source": [
                "UPDATE Salaries\r\n",
                "SET experience_level =\r\n",
                "\tCASE experience_level\r\n",
                "\t\tWHEN 'MI' THEN 'Mid-level'\r\n",
                "\t\tWHEN 'SE' THEN 'Senior-level'\r\n",
                "\t\tWHEN 'EX' THEN 'Executive-level'\r\n",
                "\t\tELSE 'Entry-level'\r\n",
                "\tEND"
            ],
            "metadata": {
                "azdata_cell_guid": "56ab5db2-5f2e-47e6-b358-be29fbc1ead9",
                "language": "sql"
            },
            "outputs": [],
            "execution_count": null
        },
        {
            "cell_type": "markdown",
            "source": [
                "Just like what I did previously, it is time to replace abbreviated data in the column employment\\_type as well as update the table."
            ],
            "metadata": {
                "language": "sql",
                "azdata_cell_guid": "cefafab7-f80d-4433-82f2-362af89d7612"
            },
            "attachments": {}
        },
        {
            "cell_type": "code",
            "source": [
                "SELECT DISTINCT employment_type,\r\n",
                "\tCASE employment_type\r\n",
                "\t\tWHEN 'PT' THEN 'Part-time'\r\n",
                "\t\tWHEN 'FT' THEN 'Full-time'\r\n",
                "\t\tWHEN 'CT' THEN 'Contract'\r\n",
                "\t\tELSE 'Freelance'\r\n",
                "\tEND AS EmploymentType\r\n",
                "FROM Salaries\r\n",
                "\r\n",
                "UPDATE Salaries\r\n",
                "\tSET employment_type = \r\n",
                "\t\tCASE employment_type\r\n",
                "\t\tWHEN 'PT' THEN 'Part-time'\r\n",
                "\t\tWHEN 'FT' THEN 'Full-time'\r\n",
                "\t\tWHEN 'CT' THEN 'Contract'\r\n",
                "\t\tELSE 'Freelance'\r\n",
                "\tEND"
            ],
            "metadata": {
                "language": "sql",
                "azdata_cell_guid": "e25dace0-c1b6-4915-bfa8-abe65dd1b928"
            },
            "outputs": [],
            "execution_count": null
        },
        {
            "cell_type": "markdown",
            "source": [
                "Here we go with the column company\\_size."
            ],
            "metadata": {
                "language": "sql",
                "azdata_cell_guid": "ab9811d8-0c00-4969-971a-ba3da607e8b1"
            },
            "attachments": {}
        },
        {
            "cell_type": "code",
            "source": [
                "SELECT DISTINCT company_size,\r\n",
                "\tCASE company_size\r\n",
                "\t\tWHEN 'L' THEN 'Large'\r\n",
                "\t\tWHEN 'S' THEN 'Small'\r\n",
                "\t\tELSE 'Medium'\r\n",
                "\tEND\r\n",
                "FROM Salaries\r\n",
                "\r\n",
                "UPDATE Salaries\r\n",
                "\tSET company_size =\r\n",
                "\t\tCASE company_size\r\n",
                "\t\tWHEN 'L' THEN 'Large'\r\n",
                "\t\tWHEN 'S' THEN 'Small'\r\n",
                "\t\tELSE 'Medium'\r\n",
                "\tEND"
            ],
            "metadata": {
                "language": "sql",
                "azdata_cell_guid": "9415e0a8-8725-4d56-8180-558728b3b12b"
            },
            "outputs": [],
            "execution_count": null
        },
        {
            "cell_type": "markdown",
            "source": [
                "Let us add a new column that explains the column remote\\_ratio"
            ],
            "metadata": {
                "language": "sql",
                "azdata_cell_guid": "618d2b58-d2fb-4995-b9e4-942eb91d75f6"
            },
            "attachments": {}
        },
        {
            "cell_type": "code",
            "source": [
                "ALTER TABLE Salaries\r\n",
                "ADD location_type VARCHAR (50) NULL\r\n",
                "\t\r\n",
                "UPDATE Salaries\r\n",
                "\tSET location_type = \r\n",
                "\t\tCASE remote_ratio\r\n",
                "\t\t\tWHEN 100 THEN 'Remote'\r\n",
                "\t\t\tWHEN 50 THEN 'Hybrid'\r\n",
                "\t\t\tELSE 'On-site'\r\n",
                "\t\tEND "
            ],
            "metadata": {
                "language": "sql",
                "azdata_cell_guid": "b7db43cb-a879-4348-ad59-13d48d528b84"
            },
            "outputs": [],
            "execution_count": null
        },
        {
            "cell_type": "markdown",
            "source": [
                "Let see our transformed table."
            ],
            "metadata": {
                "language": "sql",
                "azdata_cell_guid": "6e9cc83b-592d-4988-ac7f-95af9847fc24"
            },
            "attachments": {}
        },
        {
            "cell_type": "code",
            "source": [
                "SELECT * FROM DSSalary..Salaries"
            ],
            "metadata": {
                "language": "sql",
                "azdata_cell_guid": "3ce7a2e0-fc4d-483f-b08e-872dc16f3083"
            },
            "outputs": [],
            "execution_count": null
        },
        {
            "cell_type": "markdown",
            "source": [
                "# **SECTION TWO**\n",
                "\n",
                "The goal of this section is to explore the table to understand it as well as provide insights <span style=\"color: var(--vscode-foreground);\">(EDA).&nbsp;</span> \n",
                "\n",
                "### <span style=\"color: var(--vscode-foreground);\"><b>Note</b>: For uniformity, their salaries are in USD</span>"
            ],
            "metadata": {
                "language": "sql",
                "azdata_cell_guid": "891d6eb4-8e44-4cef-92d2-31b203aa83de"
            },
            "attachments": {}
        },
        {
            "cell_type": "markdown",
            "source": [
                "Firstly, let us determine what field in the data world pay the most on average.\n",
                "\n",
                "Before we determine their pay, let us do a general census"
            ],
            "metadata": {
                "language": "sql",
                "azdata_cell_guid": "0a30af2b-5b0d-4b59-9e18-8df3f6f90699"
            },
            "attachments": {}
        },
        {
            "cell_type": "code",
            "source": [
                "SELECT COUNT(*) AS num_professionals\r\n",
                "FROM Salaries"
            ],
            "metadata": {
                "language": "sql",
                "azdata_cell_guid": "96700539-567f-4073-aa01-ff224eda3b88"
            },
            "outputs": [
                {
                    "output_type": "display_data",
                    "data": {
                        "text/html": "(1 row affected)"
                    },
                    "metadata": {}
                },
                {
                    "output_type": "display_data",
                    "data": {
                        "text/html": "Total execution time: 00:00:00.370"
                    },
                    "metadata": {}
                },
                {
                    "output_type": "execute_result",
                    "metadata": {},
                    "execution_count": 22,
                    "data": {
                        "application/vnd.dataresource+json": {
                            "schema": {
                                "fields": [
                                    {
                                        "name": "num_professionals"
                                    }
                                ]
                            },
                            "data": [
                                {
                                    "num_professionals": "3755"
                                }
                            ]
                        },
                        "text/html": [
                            "<table>",
                            "<tr><th>num_professionals</th></tr>",
                            "<tr><td>3755</td></tr>",
                            "</table>"
                        ]
                    }
                }
            ],
            "execution_count": 22
        },
        {
            "cell_type": "markdown",
            "source": [
                "Let us check the yearly trend\n",
                "\n",
                "**<mark>My observation</mark>**: There have been steady growth in the data world"
            ],
            "metadata": {
                "language": "sql",
                "azdata_cell_guid": "092d08b1-f264-4431-8ef8-b0c3a8779f63"
            },
            "attachments": {}
        },
        {
            "cell_type": "code",
            "source": [
                "SELECT\twork_year, \r\n",
                "\t\tCOUNT (*) AS num_professionals\r\n",
                "FROM DSSalary..Salaries \r\n",
                "GROUP BY work_year\r\n",
                "ORDER BY 1 DESC"
            ],
            "metadata": {
                "language": "sql",
                "azdata_cell_guid": "7cb273c7-1237-4533-8609-8237f9c1e194"
            },
            "outputs": [
                {
                    "output_type": "display_data",
                    "data": {
                        "text/html": "(4 rows affected)"
                    },
                    "metadata": {}
                },
                {
                    "output_type": "display_data",
                    "data": {
                        "text/html": "Total execution time: 00:00:00.077"
                    },
                    "metadata": {}
                },
                {
                    "output_type": "execute_result",
                    "metadata": {},
                    "execution_count": 23,
                    "data": {
                        "application/vnd.dataresource+json": {
                            "schema": {
                                "fields": [
                                    {
                                        "name": "work_year"
                                    },
                                    {
                                        "name": "num_professionals"
                                    }
                                ]
                            },
                            "data": [
                                {
                                    "work_year": "2023",
                                    "num_professionals": "1785"
                                },
                                {
                                    "work_year": "2022",
                                    "num_professionals": "1664"
                                },
                                {
                                    "work_year": "2021",
                                    "num_professionals": "230"
                                },
                                {
                                    "work_year": "2020",
                                    "num_professionals": "76"
                                }
                            ]
                        },
                        "text/html": [
                            "<table>",
                            "<tr><th>work_year</th><th>num_professionals</th></tr>",
                            "<tr><td>2023</td><td>1785</td></tr>",
                            "<tr><td>2022</td><td>1664</td></tr>",
                            "<tr><td>2021</td><td>230</td></tr>",
                            "<tr><td>2020</td><td>76</td></tr>",
                            "</table>"
                        ]
                    }
                }
            ],
            "execution_count": 23
        },
        {
            "cell_type": "markdown",
            "source": [
                "Let us know how populated each fields are\n",
                "\n",
                "**<mark>My observation</mark>**: I honestly did not know there were many job roles in the world of data, I will definitely learn more about them. From this table, there are 93 data jobs. I honestly thought there are more data analyst (DA), this was a shock when this revealed their are more data engineers (DE). Well, there might be more because this is a subset of the entire data population."
            ],
            "metadata": {
                "language": "sql",
                "azdata_cell_guid": "85a40c07-3fb3-4ef6-82f8-6752a22a800e"
            },
            "attachments": {}
        },
        {
            "cell_type": "code",
            "source": [
                "SELECT  job_title,\r\n",
                "        COUNT(*) AS num_professionals\r\n",
                "FROM DSSalary.dbo.Salaries\r\n",
                "GROUP BY job_title\r\n",
                "ORDER BY 2 DESC"
            ],
            "metadata": {
                "language": "sql",
                "azdata_cell_guid": "7b6ae6e6-4982-4355-8ae2-f4d6e109e20a"
            },
            "outputs": [
                {
                    "output_type": "display_data",
                    "data": {
                        "text/html": "(93 rows affected)"
                    },
                    "metadata": {}
                },
                {
                    "output_type": "display_data",
                    "data": {
                        "text/html": "Total execution time: 00:00:00.171"
                    },
                    "metadata": {}
                },
                {
                    "output_type": "execute_result",
                    "metadata": {},
                    "execution_count": 24,
                    "data": {
                        "application/vnd.dataresource+json": {
                            "schema": {
                                "fields": [
                                    {
                                        "name": "job_title"
                                    },
                                    {
                                        "name": "num_professionals"
                                    }
                                ]
                            },
                            "data": [
                                {
                                    "job_title": "Data Engineer",
                                    "num_professionals": "1040"
                                },
                                {
                                    "job_title": "Data Scientist",
                                    "num_professionals": "840"
                                },
                                {
                                    "job_title": "Data Analyst",
                                    "num_professionals": "612"
                                },
                                {
                                    "job_title": "Machine Learning Engineer",
                                    "num_professionals": "289"
                                },
                                {
                                    "job_title": "Analytics Engineer",
                                    "num_professionals": "103"
                                },
                                {
                                    "job_title": "Data Architect",
                                    "num_professionals": "101"
                                },
                                {
                                    "job_title": "Research Scientist",
                                    "num_professionals": "82"
                                },
                                {
                                    "job_title": "Applied Scientist",
                                    "num_professionals": "58"
                                },
                                {
                                    "job_title": "Data Science Manager",
                                    "num_professionals": "58"
                                },
                                {
                                    "job_title": "Research Engineer",
                                    "num_professionals": "37"
                                },
                                {
                                    "job_title": "ML Engineer",
                                    "num_professionals": "34"
                                },
                                {
                                    "job_title": "Data Manager",
                                    "num_professionals": "29"
                                },
                                {
                                    "job_title": "Machine Learning Scientist",
                                    "num_professionals": "26"
                                },
                                {
                                    "job_title": "Data Science Consultant",
                                    "num_professionals": "24"
                                },
                                {
                                    "job_title": "Data Analytics Manager",
                                    "num_professionals": "22"
                                },
                                {
                                    "job_title": "Computer Vision Engineer",
                                    "num_professionals": "18"
                                },
                                {
                                    "job_title": "AI Scientist",
                                    "num_professionals": "16"
                                },
                                {
                                    "job_title": "BI Data Analyst",
                                    "num_professionals": "15"
                                },
                                {
                                    "job_title": "Business Data Analyst",
                                    "num_professionals": "15"
                                },
                                {
                                    "job_title": "Data Specialist",
                                    "num_professionals": "14"
                                },
                                {
                                    "job_title": "BI Developer",
                                    "num_professionals": "13"
                                },
                                {
                                    "job_title": "Applied Machine Learning Scientist",
                                    "num_professionals": "12"
                                },
                                {
                                    "job_title": "Big Data Engineer",
                                    "num_professionals": "11"
                                },
                                {
                                    "job_title": "Machine Learning Infrastructure Engineer",
                                    "num_professionals": "11"
                                },
                                {
                                    "job_title": "AI Developer",
                                    "num_professionals": "11"
                                },
                                {
                                    "job_title": "Director of Data Science",
                                    "num_professionals": "11"
                                },
                                {
                                    "job_title": "Data Operations Engineer",
                                    "num_professionals": "10"
                                },
                                {
                                    "job_title": "Head of Data",
                                    "num_professionals": "10"
                                },
                                {
                                    "job_title": "Applied Data Scientist",
                                    "num_professionals": "10"
                                },
                                {
                                    "job_title": "ETL Developer",
                                    "num_professionals": "10"
                                },
                                {
                                    "job_title": "Machine Learning Software Engineer",
                                    "num_professionals": "10"
                                },
                                {
                                    "job_title": "Head of Data Science",
                                    "num_professionals": "9"
                                },
                                {
                                    "job_title": "Lead Data Scientist",
                                    "num_professionals": "9"
                                },
                                {
                                    "job_title": "BI Analyst",
                                    "num_professionals": "9"
                                },
                                {
                                    "job_title": "Principal Data Scientist",
                                    "num_professionals": "8"
                                },
                                {
                                    "job_title": "Data Science Lead",
                                    "num_professionals": "8"
                                },
                                {
                                    "job_title": "NLP Engineer",
                                    "num_professionals": "7"
                                },
                                {
                                    "job_title": "Data Quality Analyst",
                                    "num_professionals": "7"
                                },
                                {
                                    "job_title": "Machine Learning Developer",
                                    "num_professionals": "7"
                                },
                                {
                                    "job_title": "Machine Learning Researcher",
                                    "num_professionals": "6"
                                },
                                {
                                    "job_title": "Data Infrastructure Engineer",
                                    "num_professionals": "6"
                                },
                                {
                                    "job_title": "Lead Data Engineer",
                                    "num_professionals": "6"
                                },
                                {
                                    "job_title": "Data Analytics Engineer",
                                    "num_professionals": "6"
                                },
                                {
                                    "job_title": "Deep Learning Engineer",
                                    "num_professionals": "6"
                                },
                                {
                                    "job_title": "Computer Vision Software Engineer",
                                    "num_professionals": "5"
                                },
                                {
                                    "job_title": "Data Science Engineer",
                                    "num_professionals": "5"
                                },
                                {
                                    "job_title": "Cloud Database Engineer",
                                    "num_professionals": "5"
                                },
                                {
                                    "job_title": "Lead Data Analyst",
                                    "num_professionals": "5"
                                },
                                {
                                    "job_title": "Product Data Analyst",
                                    "num_professionals": "5"
                                },
                                {
                                    "job_title": "MLOps Engineer",
                                    "num_professionals": "4"
                                },
                                {
                                    "job_title": "Data Operations Analyst",
                                    "num_professionals": "4"
                                },
                                {
                                    "job_title": "Business Intelligence Engineer",
                                    "num_professionals": "4"
                                },
                                {
                                    "job_title": "3D Computer Vision Researcher",
                                    "num_professionals": "4"
                                },
                                {
                                    "job_title": "Machine Learning Research Engineer",
                                    "num_professionals": "4"
                                },
                                {
                                    "job_title": "Financial Data Analyst",
                                    "num_professionals": "3"
                                },
                                {
                                    "job_title": "Lead Machine Learning Engineer",
                                    "num_professionals": "3"
                                },
                                {
                                    "job_title": "Machine Learning Manager",
                                    "num_professionals": "3"
                                },
                                {
                                    "job_title": "Cloud Data Engineer",
                                    "num_professionals": "3"
                                },
                                {
                                    "job_title": "Data Modeler",
                                    "num_professionals": "2"
                                },
                                {
                                    "job_title": "ETL Engineer",
                                    "num_professionals": "2"
                                },
                                {
                                    "job_title": "Insight Analyst",
                                    "num_professionals": "2"
                                },
                                {
                                    "job_title": "Principal Data Engineer",
                                    "num_professionals": "2"
                                },
                                {
                                    "job_title": "Software Data Engineer",
                                    "num_professionals": "2"
                                },
                                {
                                    "job_title": "Big Data Architect",
                                    "num_professionals": "2"
                                },
                                {
                                    "job_title": "AI Programmer",
                                    "num_professionals": "2"
                                },
                                {
                                    "job_title": "Data Analytics Consultant",
                                    "num_professionals": "2"
                                },
                                {
                                    "job_title": "Data Scientist Lead",
                                    "num_professionals": "2"
                                },
                                {
                                    "job_title": "Applied Machine Learning Engineer",
                                    "num_professionals": "2"
                                },
                                {
                                    "job_title": "Data Lead",
                                    "num_professionals": "2"
                                },
                                {
                                    "job_title": "Data Analytics Specialist",
                                    "num_professionals": "2"
                                },
                                {
                                    "job_title": "Principal Data Analyst",
                                    "num_professionals": "2"
                                },
                                {
                                    "job_title": "Autonomous Vehicle Technician",
                                    "num_professionals": "2"
                                },
                                {
                                    "job_title": "Data Strategist",
                                    "num_professionals": "2"
                                },
                                {
                                    "job_title": "Data Analytics Lead",
                                    "num_professionals": "2"
                                },
                                {
                                    "job_title": "Marketing Data Analyst",
                                    "num_professionals": "2"
                                },
                                {
                                    "job_title": "Azure Data Engineer",
                                    "num_professionals": "1"
                                },
                                {
                                    "job_title": "Principal Machine Learning Engineer",
                                    "num_professionals": "1"
                                },
                                {
                                    "job_title": "Data Science Tech Lead",
                                    "num_professionals": "1"
                                },
                                {
                                    "job_title": "Compliance Data Analyst",
                                    "num_professionals": "1"
                                },
                                {
                                    "job_title": "Principal Data Architect",
                                    "num_professionals": "1"
                                },
                                {
                                    "job_title": "Staff Data Analyst",
                                    "num_professionals": "1"
                                },
                                {
                                    "job_title": "Marketing Data Engineer",
                                    "num_professionals": "1"
                                },
                                {
                                    "job_title": "Data Management Specialist",
                                    "num_professionals": "1"
                                },
                                {
                                    "job_title": "Power BI Developer",
                                    "num_professionals": "1"
                                },
                                {
                                    "job_title": "Product Data Scientist",
                                    "num_professionals": "1"
                                },
                                {
                                    "job_title": "Cloud Data Architect",
                                    "num_professionals": "1"
                                },
                                {
                                    "job_title": "Data DevOps Engineer",
                                    "num_professionals": "1"
                                },
                                {
                                    "job_title": "Manager Data Management",
                                    "num_professionals": "1"
                                },
                                {
                                    "job_title": "Head of Machine Learning",
                                    "num_professionals": "1"
                                },
                                {
                                    "job_title": "Finance Data Analyst",
                                    "num_professionals": "1"
                                },
                                {
                                    "job_title": "BI Data Engineer",
                                    "num_professionals": "1"
                                },
                                {
                                    "job_title": "Deep Learning Researcher",
                                    "num_professionals": "1"
                                },
                                {
                                    "job_title": "Staff Data Scientist",
                                    "num_professionals": "1"
                                }
                            ]
                        },
                        "text/html": [
                            "<table>",
                            "<tr><th>job_title</th><th>num_professionals</th></tr>",
                            "<tr><td>Data Engineer</td><td>1040</td></tr>",
                            "<tr><td>Data Scientist</td><td>840</td></tr>",
                            "<tr><td>Data Analyst</td><td>612</td></tr>",
                            "<tr><td>Machine Learning Engineer</td><td>289</td></tr>",
                            "<tr><td>Analytics Engineer</td><td>103</td></tr>",
                            "<tr><td>Data Architect</td><td>101</td></tr>",
                            "<tr><td>Research Scientist</td><td>82</td></tr>",
                            "<tr><td>Applied Scientist</td><td>58</td></tr>",
                            "<tr><td>Data Science Manager</td><td>58</td></tr>",
                            "<tr><td>Research Engineer</td><td>37</td></tr>",
                            "<tr><td>ML Engineer</td><td>34</td></tr>",
                            "<tr><td>Data Manager</td><td>29</td></tr>",
                            "<tr><td>Machine Learning Scientist</td><td>26</td></tr>",
                            "<tr><td>Data Science Consultant</td><td>24</td></tr>",
                            "<tr><td>Data Analytics Manager</td><td>22</td></tr>",
                            "<tr><td>Computer Vision Engineer</td><td>18</td></tr>",
                            "<tr><td>AI Scientist</td><td>16</td></tr>",
                            "<tr><td>BI Data Analyst</td><td>15</td></tr>",
                            "<tr><td>Business Data Analyst</td><td>15</td></tr>",
                            "<tr><td>Data Specialist</td><td>14</td></tr>",
                            "<tr><td>BI Developer</td><td>13</td></tr>",
                            "<tr><td>Applied Machine Learning Scientist</td><td>12</td></tr>",
                            "<tr><td>Big Data Engineer</td><td>11</td></tr>",
                            "<tr><td>Machine Learning Infrastructure Engineer</td><td>11</td></tr>",
                            "<tr><td>AI Developer</td><td>11</td></tr>",
                            "<tr><td>Director of Data Science</td><td>11</td></tr>",
                            "<tr><td>Data Operations Engineer</td><td>10</td></tr>",
                            "<tr><td>Head of Data</td><td>10</td></tr>",
                            "<tr><td>Applied Data Scientist</td><td>10</td></tr>",
                            "<tr><td>ETL Developer</td><td>10</td></tr>",
                            "<tr><td>Machine Learning Software Engineer</td><td>10</td></tr>",
                            "<tr><td>Head of Data Science</td><td>9</td></tr>",
                            "<tr><td>Lead Data Scientist</td><td>9</td></tr>",
                            "<tr><td>BI Analyst</td><td>9</td></tr>",
                            "<tr><td>Principal Data Scientist</td><td>8</td></tr>",
                            "<tr><td>Data Science Lead</td><td>8</td></tr>",
                            "<tr><td>NLP Engineer</td><td>7</td></tr>",
                            "<tr><td>Data Quality Analyst</td><td>7</td></tr>",
                            "<tr><td>Machine Learning Developer</td><td>7</td></tr>",
                            "<tr><td>Machine Learning Researcher</td><td>6</td></tr>",
                            "<tr><td>Data Infrastructure Engineer</td><td>6</td></tr>",
                            "<tr><td>Lead Data Engineer</td><td>6</td></tr>",
                            "<tr><td>Data Analytics Engineer</td><td>6</td></tr>",
                            "<tr><td>Deep Learning Engineer</td><td>6</td></tr>",
                            "<tr><td>Computer Vision Software Engineer</td><td>5</td></tr>",
                            "<tr><td>Data Science Engineer</td><td>5</td></tr>",
                            "<tr><td>Cloud Database Engineer</td><td>5</td></tr>",
                            "<tr><td>Lead Data Analyst</td><td>5</td></tr>",
                            "<tr><td>Product Data Analyst</td><td>5</td></tr>",
                            "<tr><td>MLOps Engineer</td><td>4</td></tr>",
                            "<tr><td>Data Operations Analyst</td><td>4</td></tr>",
                            "<tr><td>Business Intelligence Engineer</td><td>4</td></tr>",
                            "<tr><td>3D Computer Vision Researcher</td><td>4</td></tr>",
                            "<tr><td>Machine Learning Research Engineer</td><td>4</td></tr>",
                            "<tr><td>Financial Data Analyst</td><td>3</td></tr>",
                            "<tr><td>Lead Machine Learning Engineer</td><td>3</td></tr>",
                            "<tr><td>Machine Learning Manager</td><td>3</td></tr>",
                            "<tr><td>Cloud Data Engineer</td><td>3</td></tr>",
                            "<tr><td>Data Modeler</td><td>2</td></tr>",
                            "<tr><td>ETL Engineer</td><td>2</td></tr>",
                            "<tr><td>Insight Analyst</td><td>2</td></tr>",
                            "<tr><td>Principal Data Engineer</td><td>2</td></tr>",
                            "<tr><td>Software Data Engineer</td><td>2</td></tr>",
                            "<tr><td>Big Data Architect</td><td>2</td></tr>",
                            "<tr><td>AI Programmer</td><td>2</td></tr>",
                            "<tr><td>Data Analytics Consultant</td><td>2</td></tr>",
                            "<tr><td>Data Scientist Lead</td><td>2</td></tr>",
                            "<tr><td>Applied Machine Learning Engineer</td><td>2</td></tr>",
                            "<tr><td>Data Lead</td><td>2</td></tr>",
                            "<tr><td>Data Analytics Specialist</td><td>2</td></tr>",
                            "<tr><td>Principal Data Analyst</td><td>2</td></tr>",
                            "<tr><td>Autonomous Vehicle Technician</td><td>2</td></tr>",
                            "<tr><td>Data Strategist</td><td>2</td></tr>",
                            "<tr><td>Data Analytics Lead</td><td>2</td></tr>",
                            "<tr><td>Marketing Data Analyst</td><td>2</td></tr>",
                            "<tr><td>Azure Data Engineer</td><td>1</td></tr>",
                            "<tr><td>Principal Machine Learning Engineer</td><td>1</td></tr>",
                            "<tr><td>Data Science Tech Lead</td><td>1</td></tr>",
                            "<tr><td>Compliance Data Analyst</td><td>1</td></tr>",
                            "<tr><td>Principal Data Architect</td><td>1</td></tr>",
                            "<tr><td>Staff Data Analyst</td><td>1</td></tr>",
                            "<tr><td>Marketing Data Engineer</td><td>1</td></tr>",
                            "<tr><td>Data Management Specialist</td><td>1</td></tr>",
                            "<tr><td>Power BI Developer</td><td>1</td></tr>",
                            "<tr><td>Product Data Scientist</td><td>1</td></tr>",
                            "<tr><td>Cloud Data Architect</td><td>1</td></tr>",
                            "<tr><td>Data DevOps Engineer</td><td>1</td></tr>",
                            "<tr><td>Manager Data Management</td><td>1</td></tr>",
                            "<tr><td>Head of Machine Learning</td><td>1</td></tr>",
                            "<tr><td>Finance Data Analyst</td><td>1</td></tr>",
                            "<tr><td>BI Data Engineer</td><td>1</td></tr>",
                            "<tr><td>Deep Learning Researcher</td><td>1</td></tr>",
                            "<tr><td>Staff Data Scientist</td><td>1</td></tr>",
                            "</table>"
                        ]
                    }
                }
            ],
            "execution_count": 24
        },
        {
            "cell_type": "markdown",
            "source": [
                "Let us drill down to determine the number of professional over time\n",
                "\n",
                "<mark>**My observation**</mark>: I noticed there have been more people migrating into the world of data. Concentrating on DE, can I say DE became the talk of the town since 2022 (since we had more DEs compard to previous years?)"
            ],
            "metadata": {
                "language": "sql",
                "azdata_cell_guid": "976a5d43-bc0e-4837-aa7c-c1fd621ea15d"
            },
            "attachments": {}
        },
        {
            "cell_type": "code",
            "source": [
                "SELECT\twork_year,\r\n",
                "\t\tjob_title, \r\n",
                "\t\tCOUNT(*) AS num_professionals\r\n",
                "FROM DSSalary.dbo.Salaries\r\n",
                "GROUP BY work_year, job_title\r\n",
                "ORDER BY 1 DESC, 3 DESC"
            ],
            "metadata": {
                "language": "sql",
                "azdata_cell_guid": "17661c5b-997d-45ca-b20e-629655a57c8b",
                "tags": []
            },
            "outputs": [
                {
                    "output_type": "display_data",
                    "data": {
                        "text/html": "(200 rows affected)"
                    },
                    "metadata": {}
                },
                {
                    "output_type": "display_data",
                    "data": {
                        "text/html": "Total execution time: 00:00:00.133"
                    },
                    "metadata": {}
                },
                {
                    "output_type": "execute_result",
                    "metadata": {},
                    "execution_count": 25,
                    "data": {
                        "application/vnd.dataresource+json": {
                            "schema": {
                                "fields": [
                                    {
                                        "name": "work_year"
                                    },
                                    {
                                        "name": "job_title"
                                    },
                                    {
                                        "name": "num_professionals"
                                    }
                                ]
                            },
                            "data": [
                                {
                                    "work_year": "2023",
                                    "job_title": "Data Engineer",
                                    "num_professionals": "499"
                                },
                                {
                                    "work_year": "2023",
                                    "job_title": "Data Scientist",
                                    "num_professionals": "370"
                                },
                                {
                                    "work_year": "2023",
                                    "job_title": "Data Analyst",
                                    "num_professionals": "307"
                                },
                                {
                                    "work_year": "2023",
                                    "job_title": "Machine Learning Engineer",
                                    "num_professionals": "158"
                                },
                                {
                                    "work_year": "2023",
                                    "job_title": "Research Scientist",
                                    "num_professionals": "55"
                                },
                                {
                                    "work_year": "2023",
                                    "job_title": "Data Architect",
                                    "num_professionals": "52"
                                },
                                {
                                    "work_year": "2023",
                                    "job_title": "Analytics Engineer",
                                    "num_professionals": "46"
                                },
                                {
                                    "work_year": "2023",
                                    "job_title": "Applied Scientist",
                                    "num_professionals": "40"
                                },
                                {
                                    "work_year": "2023",
                                    "job_title": "Research Engineer",
                                    "num_professionals": "32"
                                },
                                {
                                    "work_year": "2023",
                                    "job_title": "Data Science Manager",
                                    "num_professionals": "22"
                                },
                                {
                                    "work_year": "2023",
                                    "job_title": "Data Manager",
                                    "num_professionals": "22"
                                },
                                {
                                    "work_year": "2023",
                                    "job_title": "ML Engineer",
                                    "num_professionals": "14"
                                },
                                {
                                    "work_year": "2023",
                                    "job_title": "Data Analytics Manager",
                                    "num_professionals": "12"
                                },
                                {
                                    "work_year": "2023",
                                    "job_title": "BI Developer",
                                    "num_professionals": "10"
                                },
                                {
                                    "work_year": "2023",
                                    "job_title": "Computer Vision Engineer",
                                    "num_professionals": "10"
                                },
                                {
                                    "work_year": "2023",
                                    "job_title": "AI Developer",
                                    "num_professionals": "8"
                                },
                                {
                                    "work_year": "2023",
                                    "job_title": "Machine Learning Scientist",
                                    "num_professionals": "8"
                                },
                                {
                                    "work_year": "2023",
                                    "job_title": "Data Quality Analyst",
                                    "num_professionals": "7"
                                },
                                {
                                    "work_year": "2023",
                                    "job_title": "Data Science Consultant",
                                    "num_professionals": "7"
                                },
                                {
                                    "work_year": "2023",
                                    "job_title": "Data Science Lead",
                                    "num_professionals": "6"
                                },
                                {
                                    "work_year": "2023",
                                    "job_title": "Machine Learning Infrastructure Engineer",
                                    "num_professionals": "6"
                                },
                                {
                                    "work_year": "2023",
                                    "job_title": "Data Infrastructure Engineer",
                                    "num_professionals": "6"
                                },
                                {
                                    "work_year": "2023",
                                    "job_title": "Head of Data Science",
                                    "num_professionals": "5"
                                },
                                {
                                    "work_year": "2023",
                                    "job_title": "Deep Learning Engineer",
                                    "num_professionals": "4"
                                },
                                {
                                    "work_year": "2023",
                                    "job_title": "Machine Learning Software Engineer",
                                    "num_professionals": "4"
                                },
                                {
                                    "work_year": "2023",
                                    "job_title": "BI Analyst",
                                    "num_professionals": "4"
                                },
                                {
                                    "work_year": "2023",
                                    "job_title": "Business Intelligence Engineer",
                                    "num_professionals": "4"
                                },
                                {
                                    "work_year": "2023",
                                    "job_title": "NLP Engineer",
                                    "num_professionals": "4"
                                },
                                {
                                    "work_year": "2023",
                                    "job_title": "Cloud Database Engineer",
                                    "num_professionals": "3"
                                },
                                {
                                    "work_year": "2023",
                                    "job_title": "Head of Data",
                                    "num_professionals": "3"
                                },
                                {
                                    "work_year": "2023",
                                    "job_title": "Applied Data Scientist",
                                    "num_professionals": "3"
                                },
                                {
                                    "work_year": "2023",
                                    "job_title": "Business Data Analyst",
                                    "num_professionals": "3"
                                },
                                {
                                    "work_year": "2023",
                                    "job_title": "Director of Data Science",
                                    "num_professionals": "3"
                                },
                                {
                                    "work_year": "2023",
                                    "job_title": "Insight Analyst",
                                    "num_professionals": "2"
                                },
                                {
                                    "work_year": "2023",
                                    "job_title": "Software Data Engineer",
                                    "num_professionals": "2"
                                },
                                {
                                    "work_year": "2023",
                                    "job_title": "Data Science Engineer",
                                    "num_professionals": "2"
                                },
                                {
                                    "work_year": "2023",
                                    "job_title": "Data Specialist",
                                    "num_professionals": "2"
                                },
                                {
                                    "work_year": "2023",
                                    "job_title": "ETL Engineer",
                                    "num_professionals": "2"
                                },
                                {
                                    "work_year": "2023",
                                    "job_title": "Data Modeler",
                                    "num_professionals": "2"
                                },
                                {
                                    "work_year": "2023",
                                    "job_title": "MLOps Engineer",
                                    "num_professionals": "2"
                                },
                                {
                                    "work_year": "2023",
                                    "job_title": "Big Data Engineer",
                                    "num_professionals": "2"
                                },
                                {
                                    "work_year": "2023",
                                    "job_title": "AI Scientist",
                                    "num_professionals": "2"
                                },
                                {
                                    "work_year": "2023",
                                    "job_title": "Lead Data Analyst",
                                    "num_professionals": "2"
                                },
                                {
                                    "work_year": "2023",
                                    "job_title": "Data Lead",
                                    "num_professionals": "2"
                                },
                                {
                                    "work_year": "2023",
                                    "job_title": "Data Analytics Specialist",
                                    "num_professionals": "2"
                                },
                                {
                                    "work_year": "2023",
                                    "job_title": "Applied Machine Learning Engineer",
                                    "num_professionals": "2"
                                },
                                {
                                    "work_year": "2023",
                                    "job_title": "Applied Machine Learning Scientist",
                                    "num_professionals": "2"
                                },
                                {
                                    "work_year": "2023",
                                    "job_title": "Data Operations Engineer",
                                    "num_professionals": "2"
                                },
                                {
                                    "work_year": "2023",
                                    "job_title": "Data Strategist",
                                    "num_professionals": "2"
                                },
                                {
                                    "work_year": "2023",
                                    "job_title": "Azure Data Engineer",
                                    "num_professionals": "1"
                                },
                                {
                                    "work_year": "2023",
                                    "job_title": "BI Data Analyst",
                                    "num_professionals": "1"
                                },
                                {
                                    "work_year": "2023",
                                    "job_title": "Data DevOps Engineer",
                                    "num_professionals": "1"
                                },
                                {
                                    "work_year": "2023",
                                    "job_title": "Autonomous Vehicle Technician",
                                    "num_professionals": "1"
                                },
                                {
                                    "work_year": "2023",
                                    "job_title": "Big Data Architect",
                                    "num_professionals": "1"
                                },
                                {
                                    "work_year": "2023",
                                    "job_title": "Machine Learning Research Engineer",
                                    "num_professionals": "1"
                                },
                                {
                                    "work_year": "2023",
                                    "job_title": "Computer Vision Software Engineer",
                                    "num_professionals": "1"
                                },
                                {
                                    "work_year": "2023",
                                    "job_title": "Deep Learning Researcher",
                                    "num_professionals": "1"
                                },
                                {
                                    "work_year": "2023",
                                    "job_title": "Data Analytics Lead",
                                    "num_professionals": "1"
                                },
                                {
                                    "work_year": "2023",
                                    "job_title": "Compliance Data Analyst",
                                    "num_professionals": "1"
                                },
                                {
                                    "work_year": "2023",
                                    "job_title": "Financial Data Analyst",
                                    "num_professionals": "1"
                                },
                                {
                                    "work_year": "2023",
                                    "job_title": "Product Data Analyst",
                                    "num_professionals": "1"
                                },
                                {
                                    "work_year": "2023",
                                    "job_title": "AI Programmer",
                                    "num_professionals": "1"
                                },
                                {
                                    "work_year": "2023",
                                    "job_title": "Machine Learning Researcher",
                                    "num_professionals": "1"
                                },
                                {
                                    "work_year": "2023",
                                    "job_title": "Principal Data Scientist",
                                    "num_professionals": "1"
                                },
                                {
                                    "work_year": "2023",
                                    "job_title": "BI Data Engineer",
                                    "num_professionals": "1"
                                },
                                {
                                    "work_year": "2022",
                                    "job_title": "Data Engineer",
                                    "num_professionals": "488"
                                },
                                {
                                    "work_year": "2022",
                                    "job_title": "Data Scientist",
                                    "num_professionals": "405"
                                },
                                {
                                    "work_year": "2022",
                                    "job_title": "Data Analyst",
                                    "num_professionals": "276"
                                },
                                {
                                    "work_year": "2022",
                                    "job_title": "Machine Learning Engineer",
                                    "num_professionals": "109"
                                },
                                {
                                    "work_year": "2022",
                                    "job_title": "Analytics Engineer",
                                    "num_professionals": "57"
                                },
                                {
                                    "work_year": "2022",
                                    "job_title": "Data Architect",
                                    "num_professionals": "46"
                                },
                                {
                                    "work_year": "2022",
                                    "job_title": "Data Science Manager",
                                    "num_professionals": "29"
                                },
                                {
                                    "work_year": "2022",
                                    "job_title": "Applied Scientist",
                                    "num_professionals": "18"
                                },
                                {
                                    "work_year": "2022",
                                    "job_title": "Research Scientist",
                                    "num_professionals": "15"
                                },
                                {
                                    "work_year": "2022",
                                    "job_title": "ML Engineer",
                                    "num_professionals": "15"
                                },
                                {
                                    "work_year": "2022",
                                    "job_title": "Machine Learning Scientist",
                                    "num_professionals": "13"
                                },
                                {
                                    "work_year": "2022",
                                    "job_title": "Data Specialist",
                                    "num_professionals": "11"
                                },
                                {
                                    "work_year": "2022",
                                    "job_title": "Data Science Consultant",
                                    "num_professionals": "10"
                                },
                                {
                                    "work_year": "2022",
                                    "job_title": "ETL Developer",
                                    "num_professionals": "10"
                                },
                                {
                                    "work_year": "2022",
                                    "job_title": "AI Scientist",
                                    "num_professionals": "8"
                                },
                                {
                                    "work_year": "2022",
                                    "job_title": "Applied Machine Learning Scientist",
                                    "num_professionals": "8"
                                },
                                {
                                    "work_year": "2022",
                                    "job_title": "Data Operations Engineer",
                                    "num_professionals": "8"
                                },
                                {
                                    "work_year": "2022",
                                    "job_title": "Business Data Analyst",
                                    "num_professionals": "8"
                                },
                                {
                                    "work_year": "2022",
                                    "job_title": "BI Data Analyst",
                                    "num_professionals": "8"
                                },
                                {
                                    "work_year": "2022",
                                    "job_title": "Data Manager",
                                    "num_professionals": "7"
                                },
                                {
                                    "work_year": "2022",
                                    "job_title": "Data Analytics Manager",
                                    "num_professionals": "7"
                                },
                                {
                                    "work_year": "2022",
                                    "job_title": "Machine Learning Software Engineer",
                                    "num_professionals": "6"
                                },
                                {
                                    "work_year": "2022",
                                    "job_title": "Lead Data Scientist",
                                    "num_professionals": "6"
                                },
                                {
                                    "work_year": "2022",
                                    "job_title": "Machine Learning Developer",
                                    "num_professionals": "5"
                                },
                                {
                                    "work_year": "2022",
                                    "job_title": "Machine Learning Researcher",
                                    "num_professionals": "5"
                                },
                                {
                                    "work_year": "2022",
                                    "job_title": "BI Analyst",
                                    "num_professionals": "5"
                                },
                                {
                                    "work_year": "2022",
                                    "job_title": "Research Engineer",
                                    "num_professionals": "5"
                                },
                                {
                                    "work_year": "2022",
                                    "job_title": "Applied Data Scientist",
                                    "num_professionals": "5"
                                },
                                {
                                    "work_year": "2022",
                                    "job_title": "Computer Vision Engineer",
                                    "num_professionals": "4"
                                },
                                {
                                    "work_year": "2022",
                                    "job_title": "Head of Data",
                                    "num_professionals": "4"
                                },
                                {
                                    "work_year": "2022",
                                    "job_title": "Data Operations Analyst",
                                    "num_professionals": "4"
                                },
                                {
                                    "work_year": "2022",
                                    "job_title": "Machine Learning Infrastructure Engineer",
                                    "num_professionals": "3"
                                },
                                {
                                    "work_year": "2022",
                                    "job_title": "BI Developer",
                                    "num_professionals": "3"
                                },
                                {
                                    "work_year": "2022",
                                    "job_title": "Data Analytics Engineer",
                                    "num_professionals": "3"
                                },
                                {
                                    "work_year": "2022",
                                    "job_title": "NLP Engineer",
                                    "num_professionals": "3"
                                },
                                {
                                    "work_year": "2022",
                                    "job_title": "Lead Machine Learning Engineer",
                                    "num_professionals": "3"
                                },
                                {
                                    "work_year": "2022",
                                    "job_title": "AI Developer",
                                    "num_professionals": "3"
                                },
                                {
                                    "work_year": "2022",
                                    "job_title": "MLOps Engineer",
                                    "num_professionals": "2"
                                },
                                {
                                    "work_year": "2022",
                                    "job_title": "3D Computer Vision Researcher",
                                    "num_professionals": "2"
                                },
                                {
                                    "work_year": "2022",
                                    "job_title": "Cloud Database Engineer",
                                    "num_professionals": "2"
                                },
                                {
                                    "work_year": "2022",
                                    "job_title": "Product Data Analyst",
                                    "num_professionals": "2"
                                },
                                {
                                    "work_year": "2022",
                                    "job_title": "Data Scientist Lead",
                                    "num_professionals": "2"
                                },
                                {
                                    "work_year": "2022",
                                    "job_title": "Machine Learning Manager",
                                    "num_professionals": "2"
                                },
                                {
                                    "work_year": "2022",
                                    "job_title": "Financial Data Analyst",
                                    "num_professionals": "2"
                                },
                                {
                                    "work_year": "2022",
                                    "job_title": "Data Analytics Consultant",
                                    "num_professionals": "2"
                                },
                                {
                                    "work_year": "2022",
                                    "job_title": "Head of Data Science",
                                    "num_professionals": "2"
                                },
                                {
                                    "work_year": "2022",
                                    "job_title": "Director of Data Science",
                                    "num_professionals": "2"
                                },
                                {
                                    "work_year": "2022",
                                    "job_title": "Deep Learning Engineer",
                                    "num_professionals": "2"
                                },
                                {
                                    "work_year": "2022",
                                    "job_title": "Computer Vision Software Engineer",
                                    "num_professionals": "1"
                                },
                                {
                                    "work_year": "2022",
                                    "job_title": "Machine Learning Research Engineer",
                                    "num_professionals": "1"
                                },
                                {
                                    "work_year": "2022",
                                    "job_title": "Principal Data Scientist",
                                    "num_professionals": "1"
                                },
                                {
                                    "work_year": "2022",
                                    "job_title": "Cloud Data Engineer",
                                    "num_professionals": "1"
                                },
                                {
                                    "work_year": "2022",
                                    "job_title": "AI Programmer",
                                    "num_professionals": "1"
                                },
                                {
                                    "work_year": "2022",
                                    "job_title": "Principal Data Architect",
                                    "num_professionals": "1"
                                },
                                {
                                    "work_year": "2022",
                                    "job_title": "Manager Data Management",
                                    "num_professionals": "1"
                                },
                                {
                                    "work_year": "2022",
                                    "job_title": "Data Science Engineer",
                                    "num_professionals": "1"
                                },
                                {
                                    "work_year": "2022",
                                    "job_title": "Data Science Tech Lead",
                                    "num_professionals": "1"
                                },
                                {
                                    "work_year": "2022",
                                    "job_title": "Principal Data Analyst",
                                    "num_professionals": "1"
                                },
                                {
                                    "work_year": "2022",
                                    "job_title": "Principal Machine Learning Engineer",
                                    "num_professionals": "1"
                                },
                                {
                                    "work_year": "2022",
                                    "job_title": "Data Analytics Lead",
                                    "num_professionals": "1"
                                },
                                {
                                    "work_year": "2022",
                                    "job_title": "Product Data Scientist",
                                    "num_professionals": "1"
                                },
                                {
                                    "work_year": "2022",
                                    "job_title": "Data Science Lead",
                                    "num_professionals": "1"
                                },
                                {
                                    "work_year": "2022",
                                    "job_title": "Marketing Data Analyst",
                                    "num_professionals": "1"
                                },
                                {
                                    "work_year": "2022",
                                    "job_title": "Data Management Specialist",
                                    "num_professionals": "1"
                                },
                                {
                                    "work_year": "2022",
                                    "job_title": "Big Data Engineer",
                                    "num_professionals": "1"
                                },
                                {
                                    "work_year": "2022",
                                    "job_title": "Head of Machine Learning",
                                    "num_professionals": "1"
                                },
                                {
                                    "work_year": "2022",
                                    "job_title": "Lead Data Engineer",
                                    "num_professionals": "1"
                                },
                                {
                                    "work_year": "2021",
                                    "job_title": "Data Scientist",
                                    "num_professionals": "44"
                                },
                                {
                                    "work_year": "2021",
                                    "job_title": "Data Engineer",
                                    "num_professionals": "38"
                                },
                                {
                                    "work_year": "2021",
                                    "job_title": "Data Analyst",
                                    "num_professionals": "21"
                                },
                                {
                                    "work_year": "2021",
                                    "job_title": "Machine Learning Engineer",
                                    "num_professionals": "18"
                                },
                                {
                                    "work_year": "2021",
                                    "job_title": "Research Scientist",
                                    "num_professionals": "10"
                                },
                                {
                                    "work_year": "2021",
                                    "job_title": "Data Science Manager",
                                    "num_professionals": "6"
                                },
                                {
                                    "work_year": "2021",
                                    "job_title": "AI Scientist",
                                    "num_professionals": "5"
                                },
                                {
                                    "work_year": "2021",
                                    "job_title": "Principal Data Scientist",
                                    "num_professionals": "5"
                                },
                                {
                                    "work_year": "2021",
                                    "job_title": "Director of Data Science",
                                    "num_professionals": "5"
                                },
                                {
                                    "work_year": "2021",
                                    "job_title": "Big Data Engineer",
                                    "num_professionals": "5"
                                },
                                {
                                    "work_year": "2021",
                                    "job_title": "BI Data Analyst",
                                    "num_professionals": "5"
                                },
                                {
                                    "work_year": "2021",
                                    "job_title": "Data Science Consultant",
                                    "num_professionals": "5"
                                },
                                {
                                    "work_year": "2021",
                                    "job_title": "Machine Learning Scientist",
                                    "num_professionals": "4"
                                },
                                {
                                    "work_year": "2021",
                                    "job_title": "ML Engineer",
                                    "num_professionals": "4"
                                },
                                {
                                    "work_year": "2021",
                                    "job_title": "Data Architect",
                                    "num_professionals": "3"
                                },
                                {
                                    "work_year": "2021",
                                    "job_title": "Lead Data Engineer",
                                    "num_professionals": "3"
                                },
                                {
                                    "work_year": "2021",
                                    "job_title": "Computer Vision Software Engineer",
                                    "num_professionals": "3"
                                },
                                {
                                    "work_year": "2021",
                                    "job_title": "Data Analytics Manager",
                                    "num_professionals": "3"
                                },
                                {
                                    "work_year": "2021",
                                    "job_title": "Data Analytics Engineer",
                                    "num_professionals": "3"
                                },
                                {
                                    "work_year": "2021",
                                    "job_title": "Head of Data",
                                    "num_professionals": "3"
                                },
                                {
                                    "work_year": "2021",
                                    "job_title": "Computer Vision Engineer",
                                    "num_professionals": "3"
                                },
                                {
                                    "work_year": "2021",
                                    "job_title": "Principal Data Engineer",
                                    "num_professionals": "2"
                                },
                                {
                                    "work_year": "2021",
                                    "job_title": "Cloud Data Engineer",
                                    "num_professionals": "2"
                                },
                                {
                                    "work_year": "2021",
                                    "job_title": "Machine Learning Developer",
                                    "num_professionals": "2"
                                },
                                {
                                    "work_year": "2021",
                                    "job_title": "Machine Learning Research Engineer",
                                    "num_professionals": "2"
                                },
                                {
                                    "work_year": "2021",
                                    "job_title": "Applied Machine Learning Scientist",
                                    "num_professionals": "2"
                                },
                                {
                                    "work_year": "2021",
                                    "job_title": "Head of Data Science",
                                    "num_professionals": "2"
                                },
                                {
                                    "work_year": "2021",
                                    "job_title": "Data Science Engineer",
                                    "num_professionals": "2"
                                },
                                {
                                    "work_year": "2021",
                                    "job_title": "Lead Data Analyst",
                                    "num_professionals": "2"
                                },
                                {
                                    "work_year": "2021",
                                    "job_title": "Applied Data Scientist",
                                    "num_professionals": "2"
                                },
                                {
                                    "work_year": "2021",
                                    "job_title": "3D Computer Vision Researcher",
                                    "num_professionals": "2"
                                },
                                {
                                    "work_year": "2021",
                                    "job_title": "Lead Data Scientist",
                                    "num_professionals": "1"
                                },
                                {
                                    "work_year": "2021",
                                    "job_title": "Cloud Data Architect",
                                    "num_professionals": "1"
                                },
                                {
                                    "work_year": "2021",
                                    "job_title": "Marketing Data Analyst",
                                    "num_professionals": "1"
                                },
                                {
                                    "work_year": "2021",
                                    "job_title": "Finance Data Analyst",
                                    "num_professionals": "1"
                                },
                                {
                                    "work_year": "2021",
                                    "job_title": "Staff Data Scientist",
                                    "num_professionals": "1"
                                },
                                {
                                    "work_year": "2021",
                                    "job_title": "Marketing Data Engineer",
                                    "num_professionals": "1"
                                },
                                {
                                    "work_year": "2021",
                                    "job_title": "Big Data Architect",
                                    "num_professionals": "1"
                                },
                                {
                                    "work_year": "2021",
                                    "job_title": "Business Data Analyst",
                                    "num_professionals": "1"
                                },
                                {
                                    "work_year": "2021",
                                    "job_title": "Principal Data Analyst",
                                    "num_professionals": "1"
                                },
                                {
                                    "work_year": "2021",
                                    "job_title": "Power BI Developer",
                                    "num_professionals": "1"
                                },
                                {
                                    "work_year": "2021",
                                    "job_title": "Data Science Lead",
                                    "num_professionals": "1"
                                },
                                {
                                    "work_year": "2021",
                                    "job_title": "Autonomous Vehicle Technician",
                                    "num_professionals": "1"
                                },
                                {
                                    "work_year": "2021",
                                    "job_title": "Machine Learning Infrastructure Engineer",
                                    "num_professionals": "1"
                                },
                                {
                                    "work_year": "2021",
                                    "job_title": "Data Specialist",
                                    "num_professionals": "1"
                                },
                                {
                                    "work_year": "2020",
                                    "job_title": "Data Scientist",
                                    "num_professionals": "21"
                                },
                                {
                                    "work_year": "2020",
                                    "job_title": "Data Engineer",
                                    "num_professionals": "15"
                                },
                                {
                                    "work_year": "2020",
                                    "job_title": "Data Analyst",
                                    "num_professionals": "8"
                                },
                                {
                                    "work_year": "2020",
                                    "job_title": "Machine Learning Engineer",
                                    "num_professionals": "4"
                                },
                                {
                                    "work_year": "2020",
                                    "job_title": "Big Data Engineer",
                                    "num_professionals": "3"
                                },
                                {
                                    "work_year": "2020",
                                    "job_title": "Business Data Analyst",
                                    "num_professionals": "3"
                                },
                                {
                                    "work_year": "2020",
                                    "job_title": "Product Data Analyst",
                                    "num_professionals": "2"
                                },
                                {
                                    "work_year": "2020",
                                    "job_title": "Data Science Consultant",
                                    "num_professionals": "2"
                                },
                                {
                                    "work_year": "2020",
                                    "job_title": "Lead Data Engineer",
                                    "num_professionals": "2"
                                },
                                {
                                    "work_year": "2020",
                                    "job_title": "Research Scientist",
                                    "num_professionals": "2"
                                },
                                {
                                    "work_year": "2020",
                                    "job_title": "Lead Data Scientist",
                                    "num_professionals": "2"
                                },
                                {
                                    "work_year": "2020",
                                    "job_title": "Staff Data Analyst",
                                    "num_professionals": "1"
                                },
                                {
                                    "work_year": "2020",
                                    "job_title": "AI Scientist",
                                    "num_professionals": "1"
                                },
                                {
                                    "work_year": "2020",
                                    "job_title": "Data Science Manager",
                                    "num_professionals": "1"
                                },
                                {
                                    "work_year": "2020",
                                    "job_title": "ML Engineer",
                                    "num_professionals": "1"
                                },
                                {
                                    "work_year": "2020",
                                    "job_title": "Lead Data Analyst",
                                    "num_professionals": "1"
                                },
                                {
                                    "work_year": "2020",
                                    "job_title": "Principal Data Scientist",
                                    "num_professionals": "1"
                                },
                                {
                                    "work_year": "2020",
                                    "job_title": "Machine Learning Manager",
                                    "num_professionals": "1"
                                },
                                {
                                    "work_year": "2020",
                                    "job_title": "Director of Data Science",
                                    "num_professionals": "1"
                                },
                                {
                                    "work_year": "2020",
                                    "job_title": "Computer Vision Engineer",
                                    "num_professionals": "1"
                                },
                                {
                                    "work_year": "2020",
                                    "job_title": "BI Data Analyst",
                                    "num_professionals": "1"
                                },
                                {
                                    "work_year": "2020",
                                    "job_title": "Machine Learning Infrastructure Engineer",
                                    "num_professionals": "1"
                                },
                                {
                                    "work_year": "2020",
                                    "job_title": "Machine Learning Scientist",
                                    "num_professionals": "1"
                                }
                            ]
                        },
                        "text/html": [
                            "<table>",
                            "<tr><th>work_year</th><th>job_title</th><th>num_professionals</th></tr>",
                            "<tr><td>2023</td><td>Data Engineer</td><td>499</td></tr>",
                            "<tr><td>2023</td><td>Data Scientist</td><td>370</td></tr>",
                            "<tr><td>2023</td><td>Data Analyst</td><td>307</td></tr>",
                            "<tr><td>2023</td><td>Machine Learning Engineer</td><td>158</td></tr>",
                            "<tr><td>2023</td><td>Research Scientist</td><td>55</td></tr>",
                            "<tr><td>2023</td><td>Data Architect</td><td>52</td></tr>",
                            "<tr><td>2023</td><td>Analytics Engineer</td><td>46</td></tr>",
                            "<tr><td>2023</td><td>Applied Scientist</td><td>40</td></tr>",
                            "<tr><td>2023</td><td>Research Engineer</td><td>32</td></tr>",
                            "<tr><td>2023</td><td>Data Science Manager</td><td>22</td></tr>",
                            "<tr><td>2023</td><td>Data Manager</td><td>22</td></tr>",
                            "<tr><td>2023</td><td>ML Engineer</td><td>14</td></tr>",
                            "<tr><td>2023</td><td>Data Analytics Manager</td><td>12</td></tr>",
                            "<tr><td>2023</td><td>BI Developer</td><td>10</td></tr>",
                            "<tr><td>2023</td><td>Computer Vision Engineer</td><td>10</td></tr>",
                            "<tr><td>2023</td><td>AI Developer</td><td>8</td></tr>",
                            "<tr><td>2023</td><td>Machine Learning Scientist</td><td>8</td></tr>",
                            "<tr><td>2023</td><td>Data Quality Analyst</td><td>7</td></tr>",
                            "<tr><td>2023</td><td>Data Science Consultant</td><td>7</td></tr>",
                            "<tr><td>2023</td><td>Data Science Lead</td><td>6</td></tr>",
                            "<tr><td>2023</td><td>Machine Learning Infrastructure Engineer</td><td>6</td></tr>",
                            "<tr><td>2023</td><td>Data Infrastructure Engineer</td><td>6</td></tr>",
                            "<tr><td>2023</td><td>Head of Data Science</td><td>5</td></tr>",
                            "<tr><td>2023</td><td>Deep Learning Engineer</td><td>4</td></tr>",
                            "<tr><td>2023</td><td>Machine Learning Software Engineer</td><td>4</td></tr>",
                            "<tr><td>2023</td><td>BI Analyst</td><td>4</td></tr>",
                            "<tr><td>2023</td><td>Business Intelligence Engineer</td><td>4</td></tr>",
                            "<tr><td>2023</td><td>NLP Engineer</td><td>4</td></tr>",
                            "<tr><td>2023</td><td>Cloud Database Engineer</td><td>3</td></tr>",
                            "<tr><td>2023</td><td>Head of Data</td><td>3</td></tr>",
                            "<tr><td>2023</td><td>Applied Data Scientist</td><td>3</td></tr>",
                            "<tr><td>2023</td><td>Business Data Analyst</td><td>3</td></tr>",
                            "<tr><td>2023</td><td>Director of Data Science</td><td>3</td></tr>",
                            "<tr><td>2023</td><td>Insight Analyst</td><td>2</td></tr>",
                            "<tr><td>2023</td><td>Software Data Engineer</td><td>2</td></tr>",
                            "<tr><td>2023</td><td>Data Science Engineer</td><td>2</td></tr>",
                            "<tr><td>2023</td><td>Data Specialist</td><td>2</td></tr>",
                            "<tr><td>2023</td><td>ETL Engineer</td><td>2</td></tr>",
                            "<tr><td>2023</td><td>Data Modeler</td><td>2</td></tr>",
                            "<tr><td>2023</td><td>MLOps Engineer</td><td>2</td></tr>",
                            "<tr><td>2023</td><td>Big Data Engineer</td><td>2</td></tr>",
                            "<tr><td>2023</td><td>AI Scientist</td><td>2</td></tr>",
                            "<tr><td>2023</td><td>Lead Data Analyst</td><td>2</td></tr>",
                            "<tr><td>2023</td><td>Data Lead</td><td>2</td></tr>",
                            "<tr><td>2023</td><td>Data Analytics Specialist</td><td>2</td></tr>",
                            "<tr><td>2023</td><td>Applied Machine Learning Engineer</td><td>2</td></tr>",
                            "<tr><td>2023</td><td>Applied Machine Learning Scientist</td><td>2</td></tr>",
                            "<tr><td>2023</td><td>Data Operations Engineer</td><td>2</td></tr>",
                            "<tr><td>2023</td><td>Data Strategist</td><td>2</td></tr>",
                            "<tr><td>2023</td><td>Azure Data Engineer</td><td>1</td></tr>",
                            "<tr><td>2023</td><td>BI Data Analyst</td><td>1</td></tr>",
                            "<tr><td>2023</td><td>Data DevOps Engineer</td><td>1</td></tr>",
                            "<tr><td>2023</td><td>Autonomous Vehicle Technician</td><td>1</td></tr>",
                            "<tr><td>2023</td><td>Big Data Architect</td><td>1</td></tr>",
                            "<tr><td>2023</td><td>Machine Learning Research Engineer</td><td>1</td></tr>",
                            "<tr><td>2023</td><td>Computer Vision Software Engineer</td><td>1</td></tr>",
                            "<tr><td>2023</td><td>Deep Learning Researcher</td><td>1</td></tr>",
                            "<tr><td>2023</td><td>Data Analytics Lead</td><td>1</td></tr>",
                            "<tr><td>2023</td><td>Compliance Data Analyst</td><td>1</td></tr>",
                            "<tr><td>2023</td><td>Financial Data Analyst</td><td>1</td></tr>",
                            "<tr><td>2023</td><td>Product Data Analyst</td><td>1</td></tr>",
                            "<tr><td>2023</td><td>AI Programmer</td><td>1</td></tr>",
                            "<tr><td>2023</td><td>Machine Learning Researcher</td><td>1</td></tr>",
                            "<tr><td>2023</td><td>Principal Data Scientist</td><td>1</td></tr>",
                            "<tr><td>2023</td><td>BI Data Engineer</td><td>1</td></tr>",
                            "<tr><td>2022</td><td>Data Engineer</td><td>488</td></tr>",
                            "<tr><td>2022</td><td>Data Scientist</td><td>405</td></tr>",
                            "<tr><td>2022</td><td>Data Analyst</td><td>276</td></tr>",
                            "<tr><td>2022</td><td>Machine Learning Engineer</td><td>109</td></tr>",
                            "<tr><td>2022</td><td>Analytics Engineer</td><td>57</td></tr>",
                            "<tr><td>2022</td><td>Data Architect</td><td>46</td></tr>",
                            "<tr><td>2022</td><td>Data Science Manager</td><td>29</td></tr>",
                            "<tr><td>2022</td><td>Applied Scientist</td><td>18</td></tr>",
                            "<tr><td>2022</td><td>Research Scientist</td><td>15</td></tr>",
                            "<tr><td>2022</td><td>ML Engineer</td><td>15</td></tr>",
                            "<tr><td>2022</td><td>Machine Learning Scientist</td><td>13</td></tr>",
                            "<tr><td>2022</td><td>Data Specialist</td><td>11</td></tr>",
                            "<tr><td>2022</td><td>Data Science Consultant</td><td>10</td></tr>",
                            "<tr><td>2022</td><td>ETL Developer</td><td>10</td></tr>",
                            "<tr><td>2022</td><td>AI Scientist</td><td>8</td></tr>",
                            "<tr><td>2022</td><td>Applied Machine Learning Scientist</td><td>8</td></tr>",
                            "<tr><td>2022</td><td>Data Operations Engineer</td><td>8</td></tr>",
                            "<tr><td>2022</td><td>Business Data Analyst</td><td>8</td></tr>",
                            "<tr><td>2022</td><td>BI Data Analyst</td><td>8</td></tr>",
                            "<tr><td>2022</td><td>Data Manager</td><td>7</td></tr>",
                            "<tr><td>2022</td><td>Data Analytics Manager</td><td>7</td></tr>",
                            "<tr><td>2022</td><td>Machine Learning Software Engineer</td><td>6</td></tr>",
                            "<tr><td>2022</td><td>Lead Data Scientist</td><td>6</td></tr>",
                            "<tr><td>2022</td><td>Machine Learning Developer</td><td>5</td></tr>",
                            "<tr><td>2022</td><td>Machine Learning Researcher</td><td>5</td></tr>",
                            "<tr><td>2022</td><td>BI Analyst</td><td>5</td></tr>",
                            "<tr><td>2022</td><td>Research Engineer</td><td>5</td></tr>",
                            "<tr><td>2022</td><td>Applied Data Scientist</td><td>5</td></tr>",
                            "<tr><td>2022</td><td>Computer Vision Engineer</td><td>4</td></tr>",
                            "<tr><td>2022</td><td>Head of Data</td><td>4</td></tr>",
                            "<tr><td>2022</td><td>Data Operations Analyst</td><td>4</td></tr>",
                            "<tr><td>2022</td><td>Machine Learning Infrastructure Engineer</td><td>3</td></tr>",
                            "<tr><td>2022</td><td>BI Developer</td><td>3</td></tr>",
                            "<tr><td>2022</td><td>Data Analytics Engineer</td><td>3</td></tr>",
                            "<tr><td>2022</td><td>NLP Engineer</td><td>3</td></tr>",
                            "<tr><td>2022</td><td>Lead Machine Learning Engineer</td><td>3</td></tr>",
                            "<tr><td>2022</td><td>AI Developer</td><td>3</td></tr>",
                            "<tr><td>2022</td><td>MLOps Engineer</td><td>2</td></tr>",
                            "<tr><td>2022</td><td>3D Computer Vision Researcher</td><td>2</td></tr>",
                            "<tr><td>2022</td><td>Cloud Database Engineer</td><td>2</td></tr>",
                            "<tr><td>2022</td><td>Product Data Analyst</td><td>2</td></tr>",
                            "<tr><td>2022</td><td>Data Scientist Lead</td><td>2</td></tr>",
                            "<tr><td>2022</td><td>Machine Learning Manager</td><td>2</td></tr>",
                            "<tr><td>2022</td><td>Financial Data Analyst</td><td>2</td></tr>",
                            "<tr><td>2022</td><td>Data Analytics Consultant</td><td>2</td></tr>",
                            "<tr><td>2022</td><td>Head of Data Science</td><td>2</td></tr>",
                            "<tr><td>2022</td><td>Director of Data Science</td><td>2</td></tr>",
                            "<tr><td>2022</td><td>Deep Learning Engineer</td><td>2</td></tr>",
                            "<tr><td>2022</td><td>Computer Vision Software Engineer</td><td>1</td></tr>",
                            "<tr><td>2022</td><td>Machine Learning Research Engineer</td><td>1</td></tr>",
                            "<tr><td>2022</td><td>Principal Data Scientist</td><td>1</td></tr>",
                            "<tr><td>2022</td><td>Cloud Data Engineer</td><td>1</td></tr>",
                            "<tr><td>2022</td><td>AI Programmer</td><td>1</td></tr>",
                            "<tr><td>2022</td><td>Principal Data Architect</td><td>1</td></tr>",
                            "<tr><td>2022</td><td>Manager Data Management</td><td>1</td></tr>",
                            "<tr><td>2022</td><td>Data Science Engineer</td><td>1</td></tr>",
                            "<tr><td>2022</td><td>Data Science Tech Lead</td><td>1</td></tr>",
                            "<tr><td>2022</td><td>Principal Data Analyst</td><td>1</td></tr>",
                            "<tr><td>2022</td><td>Principal Machine Learning Engineer</td><td>1</td></tr>",
                            "<tr><td>2022</td><td>Data Analytics Lead</td><td>1</td></tr>",
                            "<tr><td>2022</td><td>Product Data Scientist</td><td>1</td></tr>",
                            "<tr><td>2022</td><td>Data Science Lead</td><td>1</td></tr>",
                            "<tr><td>2022</td><td>Marketing Data Analyst</td><td>1</td></tr>",
                            "<tr><td>2022</td><td>Data Management Specialist</td><td>1</td></tr>",
                            "<tr><td>2022</td><td>Big Data Engineer</td><td>1</td></tr>",
                            "<tr><td>2022</td><td>Head of Machine Learning</td><td>1</td></tr>",
                            "<tr><td>2022</td><td>Lead Data Engineer</td><td>1</td></tr>",
                            "<tr><td>2021</td><td>Data Scientist</td><td>44</td></tr>",
                            "<tr><td>2021</td><td>Data Engineer</td><td>38</td></tr>",
                            "<tr><td>2021</td><td>Data Analyst</td><td>21</td></tr>",
                            "<tr><td>2021</td><td>Machine Learning Engineer</td><td>18</td></tr>",
                            "<tr><td>2021</td><td>Research Scientist</td><td>10</td></tr>",
                            "<tr><td>2021</td><td>Data Science Manager</td><td>6</td></tr>",
                            "<tr><td>2021</td><td>AI Scientist</td><td>5</td></tr>",
                            "<tr><td>2021</td><td>Principal Data Scientist</td><td>5</td></tr>",
                            "<tr><td>2021</td><td>Director of Data Science</td><td>5</td></tr>",
                            "<tr><td>2021</td><td>Big Data Engineer</td><td>5</td></tr>",
                            "<tr><td>2021</td><td>BI Data Analyst</td><td>5</td></tr>",
                            "<tr><td>2021</td><td>Data Science Consultant</td><td>5</td></tr>",
                            "<tr><td>2021</td><td>Machine Learning Scientist</td><td>4</td></tr>",
                            "<tr><td>2021</td><td>ML Engineer</td><td>4</td></tr>",
                            "<tr><td>2021</td><td>Data Architect</td><td>3</td></tr>",
                            "<tr><td>2021</td><td>Lead Data Engineer</td><td>3</td></tr>",
                            "<tr><td>2021</td><td>Computer Vision Software Engineer</td><td>3</td></tr>",
                            "<tr><td>2021</td><td>Data Analytics Manager</td><td>3</td></tr>",
                            "<tr><td>2021</td><td>Data Analytics Engineer</td><td>3</td></tr>",
                            "<tr><td>2021</td><td>Head of Data</td><td>3</td></tr>",
                            "<tr><td>2021</td><td>Computer Vision Engineer</td><td>3</td></tr>",
                            "<tr><td>2021</td><td>Principal Data Engineer</td><td>2</td></tr>",
                            "<tr><td>2021</td><td>Cloud Data Engineer</td><td>2</td></tr>",
                            "<tr><td>2021</td><td>Machine Learning Developer</td><td>2</td></tr>",
                            "<tr><td>2021</td><td>Machine Learning Research Engineer</td><td>2</td></tr>",
                            "<tr><td>2021</td><td>Applied Machine Learning Scientist</td><td>2</td></tr>",
                            "<tr><td>2021</td><td>Head of Data Science</td><td>2</td></tr>",
                            "<tr><td>2021</td><td>Data Science Engineer</td><td>2</td></tr>",
                            "<tr><td>2021</td><td>Lead Data Analyst</td><td>2</td></tr>",
                            "<tr><td>2021</td><td>Applied Data Scientist</td><td>2</td></tr>",
                            "<tr><td>2021</td><td>3D Computer Vision Researcher</td><td>2</td></tr>",
                            "<tr><td>2021</td><td>Lead Data Scientist</td><td>1</td></tr>",
                            "<tr><td>2021</td><td>Cloud Data Architect</td><td>1</td></tr>",
                            "<tr><td>2021</td><td>Marketing Data Analyst</td><td>1</td></tr>",
                            "<tr><td>2021</td><td>Finance Data Analyst</td><td>1</td></tr>",
                            "<tr><td>2021</td><td>Staff Data Scientist</td><td>1</td></tr>",
                            "<tr><td>2021</td><td>Marketing Data Engineer</td><td>1</td></tr>",
                            "<tr><td>2021</td><td>Big Data Architect</td><td>1</td></tr>",
                            "<tr><td>2021</td><td>Business Data Analyst</td><td>1</td></tr>",
                            "<tr><td>2021</td><td>Principal Data Analyst</td><td>1</td></tr>",
                            "<tr><td>2021</td><td>Power BI Developer</td><td>1</td></tr>",
                            "<tr><td>2021</td><td>Data Science Lead</td><td>1</td></tr>",
                            "<tr><td>2021</td><td>Autonomous Vehicle Technician</td><td>1</td></tr>",
                            "<tr><td>2021</td><td>Machine Learning Infrastructure Engineer</td><td>1</td></tr>",
                            "<tr><td>2021</td><td>Data Specialist</td><td>1</td></tr>",
                            "<tr><td>2020</td><td>Data Scientist</td><td>21</td></tr>",
                            "<tr><td>2020</td><td>Data Engineer</td><td>15</td></tr>",
                            "<tr><td>2020</td><td>Data Analyst</td><td>8</td></tr>",
                            "<tr><td>2020</td><td>Machine Learning Engineer</td><td>4</td></tr>",
                            "<tr><td>2020</td><td>Big Data Engineer</td><td>3</td></tr>",
                            "<tr><td>2020</td><td>Business Data Analyst</td><td>3</td></tr>",
                            "<tr><td>2020</td><td>Product Data Analyst</td><td>2</td></tr>",
                            "<tr><td>2020</td><td>Data Science Consultant</td><td>2</td></tr>",
                            "<tr><td>2020</td><td>Lead Data Engineer</td><td>2</td></tr>",
                            "<tr><td>2020</td><td>Research Scientist</td><td>2</td></tr>",
                            "<tr><td>2020</td><td>Lead Data Scientist</td><td>2</td></tr>",
                            "<tr><td>2020</td><td>Staff Data Analyst</td><td>1</td></tr>",
                            "<tr><td>2020</td><td>AI Scientist</td><td>1</td></tr>",
                            "<tr><td>2020</td><td>Data Science Manager</td><td>1</td></tr>",
                            "<tr><td>2020</td><td>ML Engineer</td><td>1</td></tr>",
                            "<tr><td>2020</td><td>Lead Data Analyst</td><td>1</td></tr>",
                            "<tr><td>2020</td><td>Principal Data Scientist</td><td>1</td></tr>",
                            "<tr><td>2020</td><td>Machine Learning Manager</td><td>1</td></tr>",
                            "<tr><td>2020</td><td>Director of Data Science</td><td>1</td></tr>",
                            "<tr><td>2020</td><td>Computer Vision Engineer</td><td>1</td></tr>",
                            "<tr><td>2020</td><td>BI Data Analyst</td><td>1</td></tr>",
                            "<tr><td>2020</td><td>Machine Learning Infrastructure Engineer</td><td>1</td></tr>",
                            "<tr><td>2020</td><td>Machine Learning Scientist</td><td>1</td></tr>",
                            "</table>"
                        ]
                    }
                }
            ],
            "execution_count": 25
        },
        {
            "cell_type": "markdown",
            "source": [
                "Time for the big guns, their salaries on average, atandard deviation as well as minimum salary and maximum salary"
            ],
            "metadata": {
                "language": "sql",
                "azdata_cell_guid": "0bd52181-634a-4487-a4c4-3ca2c4852fed"
            },
            "attachments": {}
        },
        {
            "cell_type": "code",
            "source": [
                "SELECT\tjob_title,\r\n",
                "\t\tAVG(salary_in_usd) AS avg_salaries,\r\n",
                "\t\tSTDEV(salary_in_usd) AS sd_salary,\r\n",
                "\t\tMIN(salary_in_usd) AS min_salaries, \r\n",
                "\t\tMAX(salary_in_usd) AS max_salaries\r\n",
                "FROM DSSalary.dbo.Salaries\r\n",
                "GROUP BY job_title\r\n",
                "ORDER BY 2 DESC"
            ],
            "metadata": {
                "language": "sql",
                "azdata_cell_guid": "283c3c0c-89ee-4636-85b5-1091c1417a53"
            },
            "outputs": [
                {
                    "output_type": "display_data",
                    "data": {
                        "text/html": "(93 rows affected)"
                    },
                    "metadata": {}
                },
                {
                    "output_type": "display_data",
                    "data": {
                        "text/html": "Total execution time: 00:00:00.496"
                    },
                    "metadata": {}
                },
                {
                    "output_type": "execute_result",
                    "metadata": {},
                    "execution_count": 26,
                    "data": {
                        "application/vnd.dataresource+json": {
                            "schema": {
                                "fields": [
                                    {
                                        "name": "job_title"
                                    },
                                    {
                                        "name": "avg_salaries"
                                    },
                                    {
                                        "name": "sd_salary"
                                    },
                                    {
                                        "name": "min_salaries"
                                    },
                                    {
                                        "name": "max_salaries"
                                    }
                                ]
                            },
                            "data": [
                                {
                                    "job_title": "Data Science Tech Lead",
                                    "avg_salaries": "375000",
                                    "sd_salary": "NULL",
                                    "min_salaries": "375000",
                                    "max_salaries": "375000"
                                },
                                {
                                    "job_title": "Cloud Data Architect",
                                    "avg_salaries": "250000",
                                    "sd_salary": "NULL",
                                    "min_salaries": "250000",
                                    "max_salaries": "250000"
                                },
                                {
                                    "job_title": "Data Lead",
                                    "avg_salaries": "212500",
                                    "sd_salary": "17677.66952966369",
                                    "min_salaries": "200000",
                                    "max_salaries": "225000"
                                },
                                {
                                    "job_title": "Data Analytics Lead",
                                    "avg_salaries": "211254.5",
                                    "sd_salary": "273997.5137487565",
                                    "min_salaries": "17509",
                                    "max_salaries": "405000"
                                },
                                {
                                    "job_title": "Principal Data Scientist",
                                    "avg_salaries": "198171.125",
                                    "sd_salary": "99306.05283298626",
                                    "min_salaries": "85847",
                                    "max_salaries": "416000"
                                },
                                {
                                    "job_title": "Director of Data Science",
                                    "avg_salaries": "195140.72727272726",
                                    "sd_salary": "90014.3261909913",
                                    "min_salaries": "57786",
                                    "max_salaries": "353200"
                                },
                                {
                                    "job_title": "Principal Data Engineer",
                                    "avg_salaries": "192500",
                                    "sd_salary": "10606.601717798212",
                                    "min_salaries": "185000",
                                    "max_salaries": "200000"
                                },
                                {
                                    "job_title": "Machine Learning Software Engineer",
                                    "avg_salaries": "192420",
                                    "sd_salary": "99504.2131994643",
                                    "min_salaries": "10000",
                                    "max_salaries": "375000"
                                },
                                {
                                    "job_title": "Data Science Manager",
                                    "avg_salaries": "191278.77586206896",
                                    "sd_salary": "63101.28631965037",
                                    "min_salaries": "54094",
                                    "max_salaries": "300000"
                                },
                                {
                                    "job_title": "Applied Scientist",
                                    "avg_salaries": "190264.4827586207",
                                    "sd_salary": "52001.244466296725",
                                    "min_salaries": "72000",
                                    "max_salaries": "350000"
                                },
                                {
                                    "job_title": "Principal Machine Learning Engineer",
                                    "avg_salaries": "190000",
                                    "sd_salary": "NULL",
                                    "min_salaries": "190000",
                                    "max_salaries": "190000"
                                },
                                {
                                    "job_title": "Head of Data",
                                    "avg_salaries": "183857.5",
                                    "sd_salary": "92002.65135944",
                                    "min_salaries": "31520",
                                    "max_salaries": "329500"
                                },
                                {
                                    "job_title": "Data Infrastructure Engineer",
                                    "avg_salaries": "175051.66666666666",
                                    "sd_salary": "19230.393045038592",
                                    "min_salaries": "143000",
                                    "max_salaries": "190000"
                                },
                                {
                                    "job_title": "Business Intelligence Engineer",
                                    "avg_salaries": "174150",
                                    "sd_salary": "41029.948411698824",
                                    "min_salaries": "129300",
                                    "max_salaries": "225000"
                                },
                                {
                                    "job_title": "Machine Learning Scientist",
                                    "avg_salaries": "163220.07692307694",
                                    "sd_salary": "65101.89207814046",
                                    "min_salaries": "12000",
                                    "max_salaries": "260000"
                                },
                                {
                                    "job_title": "Research Engineer",
                                    "avg_salaries": "163108.37837837837",
                                    "sd_salary": "55055.42493420778",
                                    "min_salaries": "60000",
                                    "max_salaries": "293000"
                                },
                                {
                                    "job_title": "Data Architect",
                                    "avg_salaries": "161713.77227722772",
                                    "sd_salary": "53281.34706365467",
                                    "min_salaries": "63000",
                                    "max_salaries": "376080"
                                },
                                {
                                    "job_title": "Research Scientist",
                                    "avg_salaries": "161214.19512195123",
                                    "sd_salary": "74944.4316267906",
                                    "min_salaries": "23000",
                                    "max_salaries": "450000"
                                },
                                {
                                    "job_title": "Head of Data Science",
                                    "avg_salaries": "160591.66666666666",
                                    "sd_salary": "77627.65781118222",
                                    "min_salaries": "60795",
                                    "max_salaries": "314100"
                                },
                                {
                                    "job_title": "ML Engineer",
                                    "avg_salaries": "158352.4411764706",
                                    "sd_salary": "76590.45126503226",
                                    "min_salaries": "15966",
                                    "max_salaries": "289076"
                                },
                                {
                                    "job_title": "Data Science Lead",
                                    "avg_salaries": "156334.375",
                                    "sd_salary": "65039.23657946245",
                                    "min_salaries": "60761",
                                    "max_salaries": "247500"
                                },
                                {
                                    "job_title": "Machine Learning Manager",
                                    "avg_salaries": "155701.33333333334",
                                    "sd_salary": "41741.054195280405",
                                    "min_salaries": "117104",
                                    "max_salaries": "200000"
                                },
                                {
                                    "job_title": "Cloud Database Engineer",
                                    "avg_salaries": "155000",
                                    "sd_salary": "28722.813232690143",
                                    "min_salaries": "115000",
                                    "max_salaries": "190000"
                                },
                                {
                                    "job_title": "Machine Learning Engineer",
                                    "avg_salaries": "154690.7266435986",
                                    "sd_salary": "63142.493674234254",
                                    "min_salaries": "12000",
                                    "max_salaries": "342300"
                                },
                                {
                                    "job_title": "Analytics Engineer",
                                    "avg_salaries": "152368.63106796116",
                                    "sd_salary": "53838.46762288281",
                                    "min_salaries": "7500",
                                    "max_salaries": "289800"
                                },
                                {
                                    "job_title": "Marketing Data Analyst",
                                    "avg_salaries": "144327",
                                    "sd_salary": "78733.51165799733",
                                    "min_salaries": "88654",
                                    "max_salaries": "200000"
                                },
                                {
                                    "job_title": "Computer Vision Engineer",
                                    "avg_salaries": "143536.11111111112",
                                    "sd_salary": "103187.87760419106",
                                    "min_salaries": "10000",
                                    "max_salaries": "342810"
                                },
                                {
                                    "job_title": "Machine Learning Infrastructure Engineer",
                                    "avg_salaries": "143011.81818181818",
                                    "sd_salary": "60217.90250883566",
                                    "min_salaries": "50180",
                                    "max_salaries": "205920"
                                },
                                {
                                    "job_title": "Data Engineer",
                                    "avg_salaries": "142785.7346153846",
                                    "sd_salary": "58038.09001415865",
                                    "min_salaries": "12000",
                                    "max_salaries": "324000"
                                },
                                {
                                    "job_title": "Data Analytics Manager",
                                    "avg_salaries": "141879.0909090909",
                                    "sd_salary": "20849.716661108003",
                                    "min_salaries": "105400",
                                    "max_salaries": "204500"
                                },
                                {
                                    "job_title": "Data Scientist",
                                    "avg_salaries": "140869.76547619049",
                                    "sd_salary": "60687.4554939087",
                                    "min_salaries": "5679",
                                    "max_salaries": "412000"
                                },
                                {
                                    "job_title": "Lead Data Engineer",
                                    "avg_salaries": "139230.33333333334",
                                    "sd_salary": "75026.10287537708",
                                    "min_salaries": "56000",
                                    "max_salaries": "276000"
                                },
                                {
                                    "job_title": "AI Developer",
                                    "avg_salaries": "136666.0909090909",
                                    "sd_salary": "95973.5539182066",
                                    "min_salaries": "6304",
                                    "max_salaries": "300000"
                                },
                                {
                                    "job_title": "Data Scientist Lead",
                                    "avg_salaries": "136153",
                                    "sd_salary": "66251.66275649238",
                                    "min_salaries": "89306",
                                    "max_salaries": "183000"
                                },
                                {
                                    "job_title": "NLP Engineer",
                                    "avg_salaries": "132785.2857142857",
                                    "sd_salary": "101547.2516725002",
                                    "min_salaries": "5132",
                                    "max_salaries": "275000"
                                },
                                {
                                    "job_title": "ETL Developer",
                                    "avg_salaries": "131453.6",
                                    "sd_salary": "87523.59399257881",
                                    "min_salaries": "52533",
                                    "max_salaries": "250000"
                                },
                                {
                                    "job_title": "BI Developer",
                                    "avg_salaries": "129846.15384615384",
                                    "sd_salary": "27370.44072792813",
                                    "min_salaries": "100000",
                                    "max_salaries": "197000"
                                },
                                {
                                    "job_title": "MLOps Engineer",
                                    "avg_salaries": "129000",
                                    "sd_salary": "5773.502691896258",
                                    "min_salaries": "124000",
                                    "max_salaries": "134000"
                                },
                                {
                                    "job_title": "Big Data Architect",
                                    "avg_salaries": "125802.5",
                                    "sd_salary": "36910.26687115659",
                                    "min_salaries": "99703",
                                    "max_salaries": "151902"
                                },
                                {
                                    "job_title": "Manager Data Management",
                                    "avg_salaries": "125000",
                                    "sd_salary": "NULL",
                                    "min_salaries": "125000",
                                    "max_salaries": "125000"
                                },
                                {
                                    "job_title": "Deep Learning Researcher",
                                    "avg_salaries": "123405",
                                    "sd_salary": "NULL",
                                    "min_salaries": "123405",
                                    "max_salaries": "123405"
                                },
                                {
                                    "job_title": "Principal Data Analyst",
                                    "avg_salaries": "122500",
                                    "sd_salary": "67175.14421272202",
                                    "min_salaries": "75000",
                                    "max_salaries": "170000"
                                },
                                {
                                    "job_title": "Data Specialist",
                                    "avg_salaries": "119642.85714285714",
                                    "sd_salary": "44383.463904159944",
                                    "min_salaries": "70000",
                                    "max_salaries": "221300"
                                },
                                {
                                    "job_title": "Data Modeler",
                                    "avg_salaries": "118900",
                                    "sd_salary": "39880.82245892128",
                                    "min_salaries": "90700",
                                    "max_salaries": "147100"
                                },
                                {
                                    "job_title": "Data Manager",
                                    "avg_salaries": "116613.3448275862",
                                    "sd_salary": "40124.743502763486",
                                    "min_salaries": "45600",
                                    "max_salaries": "199000"
                                },
                                {
                                    "job_title": "Applied Data Scientist",
                                    "avg_salaries": "113726.3",
                                    "sd_salary": "106294.0297895418",
                                    "min_salaries": "20670",
                                    "max_salaries": "380000"
                                },
                                {
                                    "job_title": "Lead Data Scientist",
                                    "avg_salaries": "112775.55555555556",
                                    "sd_salary": "66682.51893133446",
                                    "min_salaries": "29944",
                                    "max_salaries": "192000"
                                },
                                {
                                    "job_title": "AI Scientist",
                                    "avg_salaries": "110120.875",
                                    "sd_salary": "111733.54135911919",
                                    "min_salaries": "12000",
                                    "max_salaries": "423834"
                                },
                                {
                                    "job_title": "Applied Machine Learning Scientist",
                                    "avg_salaries": "109452.83333333333",
                                    "sd_salary": "108601.5339267472",
                                    "min_salaries": "30469",
                                    "max_salaries": "423000"
                                },
                                {
                                    "job_title": "Deep Learning Engineer",
                                    "avg_salaries": "109241",
                                    "sd_salary": "39124.19908956604",
                                    "min_salaries": "49253",
                                    "max_salaries": "150000"
                                },
                                {
                                    "job_title": "Data Analyst",
                                    "avg_salaries": "108716.227124183",
                                    "sd_salary": "46912.103453143216",
                                    "min_salaries": "5723",
                                    "max_salaries": "430967"
                                },
                                {
                                    "job_title": "Machine Learning Researcher",
                                    "avg_salaries": "105872.66666666667",
                                    "sd_salary": "33824.507131171435",
                                    "min_salaries": "50000",
                                    "max_salaries": "150000"
                                },
                                {
                                    "job_title": "Staff Data Scientist",
                                    "avg_salaries": "105000",
                                    "sd_salary": "NULL",
                                    "min_salaries": "105000",
                                    "max_salaries": "105000"
                                },
                                {
                                    "job_title": "BI Analyst",
                                    "avg_salaries": "104888.88888888889",
                                    "sd_salary": "57925.47894589315",
                                    "min_salaries": "12000",
                                    "max_salaries": "200000"
                                },
                                {
                                    "job_title": "Financial Data Analyst",
                                    "avg_salaries": "101666.66666666667",
                                    "sd_salary": "27537.852736430523",
                                    "min_salaries": "75000",
                                    "max_salaries": "130000"
                                },
                                {
                                    "job_title": "Azure Data Engineer",
                                    "avg_salaries": "100000",
                                    "sd_salary": "NULL",
                                    "min_salaries": "100000",
                                    "max_salaries": "100000"
                                },
                                {
                                    "job_title": "Applied Machine Learning Engineer",
                                    "avg_salaries": "99875.5",
                                    "sd_salary": "42602.476459708305",
                                    "min_salaries": "69751",
                                    "max_salaries": "130000"
                                },
                                {
                                    "job_title": "Data Operations Engineer",
                                    "avg_salaries": "98485",
                                    "sd_salary": "41778.476981442116",
                                    "min_salaries": "60000",
                                    "max_salaries": "193000"
                                },
                                {
                                    "job_title": "Data Analytics Specialist",
                                    "avg_salaries": "95000",
                                    "sd_salary": "14142.13562373095",
                                    "min_salaries": "85000",
                                    "max_salaries": "105000"
                                },
                                {
                                    "job_title": "Data Science Engineer",
                                    "avg_salaries": "93482",
                                    "sd_salary": "42737.32836174952",
                                    "min_salaries": "40189",
                                    "max_salaries": "140000"
                                },
                                {
                                    "job_title": "Data Operations Analyst",
                                    "avg_salaries": "90562.5",
                                    "sd_salary": "24150.89284063842",
                                    "min_salaries": "66000",
                                    "max_salaries": "123000"
                                },
                                {
                                    "job_title": "Cloud Data Engineer",
                                    "avg_salaries": "87300.66666666667",
                                    "sd_salary": "73716.2156471243",
                                    "min_salaries": "12608",
                                    "max_salaries": "160000"
                                },
                                {
                                    "job_title": "Data Science Consultant",
                                    "avg_salaries": "87011.75",
                                    "sd_salary": "40182.646119340796",
                                    "min_salaries": "5707",
                                    "max_salaries": "145000"
                                },
                                {
                                    "job_title": "Data Quality Analyst",
                                    "avg_salaries": "85311.42857142857",
                                    "sd_salary": "14656.974936381466",
                                    "min_salaries": "64980",
                                    "max_salaries": "100000"
                                },
                                {
                                    "job_title": "Lead Machine Learning Engineer",
                                    "avg_salaries": "82927.66666666667",
                                    "sd_salary": "13057.420202066485",
                                    "min_salaries": "69344",
                                    "max_salaries": "95386"
                                },
                                {
                                    "job_title": "Data Analytics Consultant",
                                    "avg_salaries": "81500",
                                    "sd_salary": "44547.72721475249",
                                    "min_salaries": "50000",
                                    "max_salaries": "113000"
                                },
                                {
                                    "job_title": "Data Strategist",
                                    "avg_salaries": "81000",
                                    "sd_salary": "12727.922061357855",
                                    "min_salaries": "72000",
                                    "max_salaries": "90000"
                                },
                                {
                                    "job_title": "Computer Vision Software Engineer",
                                    "avg_salaries": "77694.6",
                                    "sd_salary": "49060.09889716897",
                                    "min_salaries": "19073",
                                    "max_salaries": "150000"
                                },
                                {
                                    "job_title": "Head of Machine Learning",
                                    "avg_salaries": "76309",
                                    "sd_salary": "NULL",
                                    "min_salaries": "76309",
                                    "max_salaries": "76309"
                                },
                                {
                                    "job_title": "Machine Learning Developer",
                                    "avg_salaries": "74518.28571428571",
                                    "sd_salary": "55142.175104343645",
                                    "min_salaries": "15000",
                                    "max_salaries": "180000"
                                },
                                {
                                    "job_title": "Lead Data Analyst",
                                    "avg_salaries": "72569.4",
                                    "sd_salary": "62206.40731307347",
                                    "min_salaries": "18238",
                                    "max_salaries": "170000"
                                },
                                {
                                    "job_title": "ETL Engineer",
                                    "avg_salaries": "71394.5",
                                    "sd_salary": "19334.42071798377",
                                    "min_salaries": "57723",
                                    "max_salaries": "85066"
                                },
                                {
                                    "job_title": "Big Data Engineer",
                                    "avg_salaries": "68672",
                                    "sd_salary": "52825.12738460741",
                                    "min_salaries": "5882",
                                    "max_salaries": "161311"
                                },
                                {
                                    "job_title": "Data Management Specialist",
                                    "avg_salaries": "68293",
                                    "sd_salary": "NULL",
                                    "min_salaries": "68293",
                                    "max_salaries": "68293"
                                },
                                {
                                    "job_title": "Data Analytics Engineer",
                                    "avg_salaries": "67866.16666666667",
                                    "sd_salary": "49053.573449511976",
                                    "min_salaries": "13000",
                                    "max_salaries": "135000"
                                },
                                {
                                    "job_title": "Marketing Data Engineer",
                                    "avg_salaries": "66970",
                                    "sd_salary": "NULL",
                                    "min_salaries": "66970",
                                    "max_salaries": "66970"
                                },
                                {
                                    "job_title": "Business Data Analyst",
                                    "avg_salaries": "66065.4",
                                    "sd_salary": "46095.366770270026",
                                    "min_salaries": "9289",
                                    "max_salaries": "150000"
                                },
                                {
                                    "job_title": "Software Data Engineer",
                                    "avg_salaries": "62510",
                                    "sd_salary": "17691.81166528742",
                                    "min_salaries": "50000",
                                    "max_salaries": "75020"
                                },
                                {
                                    "job_title": "Finance Data Analyst",
                                    "avg_salaries": "61896",
                                    "sd_salary": "NULL",
                                    "min_salaries": "61896",
                                    "max_salaries": "61896"
                                },
                                {
                                    "job_title": "BI Data Analyst",
                                    "avg_salaries": "60440.13333333333",
                                    "sd_salary": "40026.92849082382",
                                    "min_salaries": "6270",
                                    "max_salaries": "150000"
                                },
                                {
                                    "job_title": "BI Data Engineer",
                                    "avg_salaries": "60000",
                                    "sd_salary": "NULL",
                                    "min_salaries": "60000",
                                    "max_salaries": "60000"
                                },
                                {
                                    "job_title": "Product Data Analyst",
                                    "avg_salaries": "56497.2",
                                    "sd_salary": "59888.68954318503",
                                    "min_salaries": "6072",
                                    "max_salaries": "140000"
                                },
                                {
                                    "job_title": "AI Programmer",
                                    "avg_salaries": "55000",
                                    "sd_salary": "21213.203435596424",
                                    "min_salaries": "40000",
                                    "max_salaries": "70000"
                                },
                                {
                                    "job_title": "Data DevOps Engineer",
                                    "avg_salaries": "53654",
                                    "sd_salary": "NULL",
                                    "min_salaries": "53654",
                                    "max_salaries": "53654"
                                },
                                {
                                    "job_title": "Insight Analyst",
                                    "avg_salaries": "46786",
                                    "sd_salary": "6014.650280772773",
                                    "min_salaries": "42533",
                                    "max_salaries": "51039"
                                },
                                {
                                    "job_title": "Machine Learning Research Engineer",
                                    "avg_salaries": "42819.25",
                                    "sd_salary": "31155.59242870104",
                                    "min_salaries": "12171",
                                    "max_salaries": "72914"
                                },
                                {
                                    "job_title": "Principal Data Architect",
                                    "avg_salaries": "38154",
                                    "sd_salary": "NULL",
                                    "min_salaries": "38154",
                                    "max_salaries": "38154"
                                },
                                {
                                    "job_title": "Compliance Data Analyst",
                                    "avg_salaries": "30000",
                                    "sd_salary": "NULL",
                                    "min_salaries": "30000",
                                    "max_salaries": "30000"
                                },
                                {
                                    "job_title": "Autonomous Vehicle Technician",
                                    "avg_salaries": "26277.5",
                                    "sd_salary": "27262.50194864734",
                                    "min_salaries": "7000",
                                    "max_salaries": "45555"
                                },
                                {
                                    "job_title": "3D Computer Vision Researcher",
                                    "avg_salaries": "21352.25",
                                    "sd_salary": "20046.470684803015",
                                    "min_salaries": "5409",
                                    "max_salaries": "50000"
                                },
                                {
                                    "job_title": "Staff Data Analyst",
                                    "avg_salaries": "15000",
                                    "sd_salary": "NULL",
                                    "min_salaries": "15000",
                                    "max_salaries": "15000"
                                },
                                {
                                    "job_title": "Product Data Scientist",
                                    "avg_salaries": "8000",
                                    "sd_salary": "NULL",
                                    "min_salaries": "8000",
                                    "max_salaries": "8000"
                                },
                                {
                                    "job_title": "Power BI Developer",
                                    "avg_salaries": "5409",
                                    "sd_salary": "NULL",
                                    "min_salaries": "5409",
                                    "max_salaries": "5409"
                                }
                            ]
                        },
                        "text/html": [
                            "<table>",
                            "<tr><th>job_title</th><th>avg_salaries</th><th>sd_salary</th><th>min_salaries</th><th>max_salaries</th></tr>",
                            "<tr><td>Data Science Tech Lead</td><td>375000</td><td>NULL</td><td>375000</td><td>375000</td></tr>",
                            "<tr><td>Cloud Data Architect</td><td>250000</td><td>NULL</td><td>250000</td><td>250000</td></tr>",
                            "<tr><td>Data Lead</td><td>212500</td><td>17677.66952966369</td><td>200000</td><td>225000</td></tr>",
                            "<tr><td>Data Analytics Lead</td><td>211254.5</td><td>273997.5137487565</td><td>17509</td><td>405000</td></tr>",
                            "<tr><td>Principal Data Scientist</td><td>198171.125</td><td>99306.05283298626</td><td>85847</td><td>416000</td></tr>",
                            "<tr><td>Director of Data Science</td><td>195140.72727272726</td><td>90014.3261909913</td><td>57786</td><td>353200</td></tr>",
                            "<tr><td>Principal Data Engineer</td><td>192500</td><td>10606.601717798212</td><td>185000</td><td>200000</td></tr>",
                            "<tr><td>Machine Learning Software Engineer</td><td>192420</td><td>99504.2131994643</td><td>10000</td><td>375000</td></tr>",
                            "<tr><td>Data Science Manager</td><td>191278.77586206896</td><td>63101.28631965037</td><td>54094</td><td>300000</td></tr>",
                            "<tr><td>Applied Scientist</td><td>190264.4827586207</td><td>52001.244466296725</td><td>72000</td><td>350000</td></tr>",
                            "<tr><td>Principal Machine Learning Engineer</td><td>190000</td><td>NULL</td><td>190000</td><td>190000</td></tr>",
                            "<tr><td>Head of Data</td><td>183857.5</td><td>92002.65135944</td><td>31520</td><td>329500</td></tr>",
                            "<tr><td>Data Infrastructure Engineer</td><td>175051.66666666666</td><td>19230.393045038592</td><td>143000</td><td>190000</td></tr>",
                            "<tr><td>Business Intelligence Engineer</td><td>174150</td><td>41029.948411698824</td><td>129300</td><td>225000</td></tr>",
                            "<tr><td>Machine Learning Scientist</td><td>163220.07692307694</td><td>65101.89207814046</td><td>12000</td><td>260000</td></tr>",
                            "<tr><td>Research Engineer</td><td>163108.37837837837</td><td>55055.42493420778</td><td>60000</td><td>293000</td></tr>",
                            "<tr><td>Data Architect</td><td>161713.77227722772</td><td>53281.34706365467</td><td>63000</td><td>376080</td></tr>",
                            "<tr><td>Research Scientist</td><td>161214.19512195123</td><td>74944.4316267906</td><td>23000</td><td>450000</td></tr>",
                            "<tr><td>Head of Data Science</td><td>160591.66666666666</td><td>77627.65781118222</td><td>60795</td><td>314100</td></tr>",
                            "<tr><td>ML Engineer</td><td>158352.4411764706</td><td>76590.45126503226</td><td>15966</td><td>289076</td></tr>",
                            "<tr><td>Data Science Lead</td><td>156334.375</td><td>65039.23657946245</td><td>60761</td><td>247500</td></tr>",
                            "<tr><td>Machine Learning Manager</td><td>155701.33333333334</td><td>41741.054195280405</td><td>117104</td><td>200000</td></tr>",
                            "<tr><td>Cloud Database Engineer</td><td>155000</td><td>28722.813232690143</td><td>115000</td><td>190000</td></tr>",
                            "<tr><td>Machine Learning Engineer</td><td>154690.7266435986</td><td>63142.493674234254</td><td>12000</td><td>342300</td></tr>",
                            "<tr><td>Analytics Engineer</td><td>152368.63106796116</td><td>53838.46762288281</td><td>7500</td><td>289800</td></tr>",
                            "<tr><td>Marketing Data Analyst</td><td>144327</td><td>78733.51165799733</td><td>88654</td><td>200000</td></tr>",
                            "<tr><td>Computer Vision Engineer</td><td>143536.11111111112</td><td>103187.87760419106</td><td>10000</td><td>342810</td></tr>",
                            "<tr><td>Machine Learning Infrastructure Engineer</td><td>143011.81818181818</td><td>60217.90250883566</td><td>50180</td><td>205920</td></tr>",
                            "<tr><td>Data Engineer</td><td>142785.7346153846</td><td>58038.09001415865</td><td>12000</td><td>324000</td></tr>",
                            "<tr><td>Data Analytics Manager</td><td>141879.0909090909</td><td>20849.716661108003</td><td>105400</td><td>204500</td></tr>",
                            "<tr><td>Data Scientist</td><td>140869.76547619049</td><td>60687.4554939087</td><td>5679</td><td>412000</td></tr>",
                            "<tr><td>Lead Data Engineer</td><td>139230.33333333334</td><td>75026.10287537708</td><td>56000</td><td>276000</td></tr>",
                            "<tr><td>AI Developer</td><td>136666.0909090909</td><td>95973.5539182066</td><td>6304</td><td>300000</td></tr>",
                            "<tr><td>Data Scientist Lead</td><td>136153</td><td>66251.66275649238</td><td>89306</td><td>183000</td></tr>",
                            "<tr><td>NLP Engineer</td><td>132785.2857142857</td><td>101547.2516725002</td><td>5132</td><td>275000</td></tr>",
                            "<tr><td>ETL Developer</td><td>131453.6</td><td>87523.59399257881</td><td>52533</td><td>250000</td></tr>",
                            "<tr><td>BI Developer</td><td>129846.15384615384</td><td>27370.44072792813</td><td>100000</td><td>197000</td></tr>",
                            "<tr><td>MLOps Engineer</td><td>129000</td><td>5773.502691896258</td><td>124000</td><td>134000</td></tr>",
                            "<tr><td>Big Data Architect</td><td>125802.5</td><td>36910.26687115659</td><td>99703</td><td>151902</td></tr>",
                            "<tr><td>Manager Data Management</td><td>125000</td><td>NULL</td><td>125000</td><td>125000</td></tr>",
                            "<tr><td>Deep Learning Researcher</td><td>123405</td><td>NULL</td><td>123405</td><td>123405</td></tr>",
                            "<tr><td>Principal Data Analyst</td><td>122500</td><td>67175.14421272202</td><td>75000</td><td>170000</td></tr>",
                            "<tr><td>Data Specialist</td><td>119642.85714285714</td><td>44383.463904159944</td><td>70000</td><td>221300</td></tr>",
                            "<tr><td>Data Modeler</td><td>118900</td><td>39880.82245892128</td><td>90700</td><td>147100</td></tr>",
                            "<tr><td>Data Manager</td><td>116613.3448275862</td><td>40124.743502763486</td><td>45600</td><td>199000</td></tr>",
                            "<tr><td>Applied Data Scientist</td><td>113726.3</td><td>106294.0297895418</td><td>20670</td><td>380000</td></tr>",
                            "<tr><td>Lead Data Scientist</td><td>112775.55555555556</td><td>66682.51893133446</td><td>29944</td><td>192000</td></tr>",
                            "<tr><td>AI Scientist</td><td>110120.875</td><td>111733.54135911919</td><td>12000</td><td>423834</td></tr>",
                            "<tr><td>Applied Machine Learning Scientist</td><td>109452.83333333333</td><td>108601.5339267472</td><td>30469</td><td>423000</td></tr>",
                            "<tr><td>Deep Learning Engineer</td><td>109241</td><td>39124.19908956604</td><td>49253</td><td>150000</td></tr>",
                            "<tr><td>Data Analyst</td><td>108716.227124183</td><td>46912.103453143216</td><td>5723</td><td>430967</td></tr>",
                            "<tr><td>Machine Learning Researcher</td><td>105872.66666666667</td><td>33824.507131171435</td><td>50000</td><td>150000</td></tr>",
                            "<tr><td>Staff Data Scientist</td><td>105000</td><td>NULL</td><td>105000</td><td>105000</td></tr>",
                            "<tr><td>BI Analyst</td><td>104888.88888888889</td><td>57925.47894589315</td><td>12000</td><td>200000</td></tr>",
                            "<tr><td>Financial Data Analyst</td><td>101666.66666666667</td><td>27537.852736430523</td><td>75000</td><td>130000</td></tr>",
                            "<tr><td>Azure Data Engineer</td><td>100000</td><td>NULL</td><td>100000</td><td>100000</td></tr>",
                            "<tr><td>Applied Machine Learning Engineer</td><td>99875.5</td><td>42602.476459708305</td><td>69751</td><td>130000</td></tr>",
                            "<tr><td>Data Operations Engineer</td><td>98485</td><td>41778.476981442116</td><td>60000</td><td>193000</td></tr>",
                            "<tr><td>Data Analytics Specialist</td><td>95000</td><td>14142.13562373095</td><td>85000</td><td>105000</td></tr>",
                            "<tr><td>Data Science Engineer</td><td>93482</td><td>42737.32836174952</td><td>40189</td><td>140000</td></tr>",
                            "<tr><td>Data Operations Analyst</td><td>90562.5</td><td>24150.89284063842</td><td>66000</td><td>123000</td></tr>",
                            "<tr><td>Cloud Data Engineer</td><td>87300.66666666667</td><td>73716.2156471243</td><td>12608</td><td>160000</td></tr>",
                            "<tr><td>Data Science Consultant</td><td>87011.75</td><td>40182.646119340796</td><td>5707</td><td>145000</td></tr>",
                            "<tr><td>Data Quality Analyst</td><td>85311.42857142857</td><td>14656.974936381466</td><td>64980</td><td>100000</td></tr>",
                            "<tr><td>Lead Machine Learning Engineer</td><td>82927.66666666667</td><td>13057.420202066485</td><td>69344</td><td>95386</td></tr>",
                            "<tr><td>Data Analytics Consultant</td><td>81500</td><td>44547.72721475249</td><td>50000</td><td>113000</td></tr>",
                            "<tr><td>Data Strategist</td><td>81000</td><td>12727.922061357855</td><td>72000</td><td>90000</td></tr>",
                            "<tr><td>Computer Vision Software Engineer</td><td>77694.6</td><td>49060.09889716897</td><td>19073</td><td>150000</td></tr>",
                            "<tr><td>Head of Machine Learning</td><td>76309</td><td>NULL</td><td>76309</td><td>76309</td></tr>",
                            "<tr><td>Machine Learning Developer</td><td>74518.28571428571</td><td>55142.175104343645</td><td>15000</td><td>180000</td></tr>",
                            "<tr><td>Lead Data Analyst</td><td>72569.4</td><td>62206.40731307347</td><td>18238</td><td>170000</td></tr>",
                            "<tr><td>ETL Engineer</td><td>71394.5</td><td>19334.42071798377</td><td>57723</td><td>85066</td></tr>",
                            "<tr><td>Big Data Engineer</td><td>68672</td><td>52825.12738460741</td><td>5882</td><td>161311</td></tr>",
                            "<tr><td>Data Management Specialist</td><td>68293</td><td>NULL</td><td>68293</td><td>68293</td></tr>",
                            "<tr><td>Data Analytics Engineer</td><td>67866.16666666667</td><td>49053.573449511976</td><td>13000</td><td>135000</td></tr>",
                            "<tr><td>Marketing Data Engineer</td><td>66970</td><td>NULL</td><td>66970</td><td>66970</td></tr>",
                            "<tr><td>Business Data Analyst</td><td>66065.4</td><td>46095.366770270026</td><td>9289</td><td>150000</td></tr>",
                            "<tr><td>Software Data Engineer</td><td>62510</td><td>17691.81166528742</td><td>50000</td><td>75020</td></tr>",
                            "<tr><td>Finance Data Analyst</td><td>61896</td><td>NULL</td><td>61896</td><td>61896</td></tr>",
                            "<tr><td>BI Data Analyst</td><td>60440.13333333333</td><td>40026.92849082382</td><td>6270</td><td>150000</td></tr>",
                            "<tr><td>BI Data Engineer</td><td>60000</td><td>NULL</td><td>60000</td><td>60000</td></tr>",
                            "<tr><td>Product Data Analyst</td><td>56497.2</td><td>59888.68954318503</td><td>6072</td><td>140000</td></tr>",
                            "<tr><td>AI Programmer</td><td>55000</td><td>21213.203435596424</td><td>40000</td><td>70000</td></tr>",
                            "<tr><td>Data DevOps Engineer</td><td>53654</td><td>NULL</td><td>53654</td><td>53654</td></tr>",
                            "<tr><td>Insight Analyst</td><td>46786</td><td>6014.650280772773</td><td>42533</td><td>51039</td></tr>",
                            "<tr><td>Machine Learning Research Engineer</td><td>42819.25</td><td>31155.59242870104</td><td>12171</td><td>72914</td></tr>",
                            "<tr><td>Principal Data Architect</td><td>38154</td><td>NULL</td><td>38154</td><td>38154</td></tr>",
                            "<tr><td>Compliance Data Analyst</td><td>30000</td><td>NULL</td><td>30000</td><td>30000</td></tr>",
                            "<tr><td>Autonomous Vehicle Technician</td><td>26277.5</td><td>27262.50194864734</td><td>7000</td><td>45555</td></tr>",
                            "<tr><td>3D Computer Vision Researcher</td><td>21352.25</td><td>20046.470684803015</td><td>5409</td><td>50000</td></tr>",
                            "<tr><td>Staff Data Analyst</td><td>15000</td><td>NULL</td><td>15000</td><td>15000</td></tr>",
                            "<tr><td>Product Data Scientist</td><td>8000</td><td>NULL</td><td>8000</td><td>8000</td></tr>",
                            "<tr><td>Power BI Developer</td><td>5409</td><td>NULL</td><td>5409</td><td>5409</td></tr>",
                            "</table>"
                        ]
                    }
                }
            ],
            "execution_count": 26
        },
        {
            "cell_type": "markdown",
            "source": [
                "Let us concentrate on Data Sciencist (DS), Data Enginner (DE) and Data Analyst (DA).\n",
                "\n",
                "**<mark>My observation</mark>**: DE earned more in salary compaired to the other two."
            ],
            "metadata": {
                "language": "sql",
                "azdata_cell_guid": "362b00f6-490a-44dc-aad4-99844523b61d"
            },
            "attachments": {}
        },
        {
            "cell_type": "code",
            "source": [
                "SELECT\tjob_title,\r\n",
                "\t\tAVG(salary_in_usd) AS avg_salaries,\r\n",
                "\t\tSTDEV(salary_in_usd) AS sd_salary,\r\n",
                "\t\tMIN(salary_in_usd) AS min_salaries, \r\n",
                "\t\tMAX(salary_in_usd) AS max_salaries\r\n",
                "FROM DSSalary.dbo.Salaries\r\n",
                "GROUP BY job_title\r\n",
                "HAVING job_title IN ('Data Scientist', 'Data Engineer', 'Data Analyst') \r\n",
                "ORDER BY 2 DESC"
            ],
            "metadata": {
                "language": "sql",
                "azdata_cell_guid": "839288f5-8ddd-490c-93e1-2db6ec69cb8e"
            },
            "outputs": [
                {
                    "output_type": "display_data",
                    "data": {
                        "text/html": "(3 rows affected)"
                    },
                    "metadata": {}
                },
                {
                    "output_type": "display_data",
                    "data": {
                        "text/html": "Total execution time: 00:00:00.068"
                    },
                    "metadata": {}
                },
                {
                    "output_type": "execute_result",
                    "metadata": {},
                    "execution_count": 27,
                    "data": {
                        "application/vnd.dataresource+json": {
                            "schema": {
                                "fields": [
                                    {
                                        "name": "job_title"
                                    },
                                    {
                                        "name": "avg_salaries"
                                    },
                                    {
                                        "name": "sd_salary"
                                    },
                                    {
                                        "name": "min_salaries"
                                    },
                                    {
                                        "name": "max_salaries"
                                    }
                                ]
                            },
                            "data": [
                                {
                                    "job_title": "Data Engineer",
                                    "avg_salaries": "142785.7346153846",
                                    "sd_salary": "58038.09001415865",
                                    "min_salaries": "12000",
                                    "max_salaries": "324000"
                                },
                                {
                                    "job_title": "Data Scientist",
                                    "avg_salaries": "140869.76547619049",
                                    "sd_salary": "60687.4554939087",
                                    "min_salaries": "5679",
                                    "max_salaries": "412000"
                                },
                                {
                                    "job_title": "Data Analyst",
                                    "avg_salaries": "108716.227124183",
                                    "sd_salary": "46912.103453143216",
                                    "min_salaries": "5723",
                                    "max_salaries": "430967"
                                }
                            ]
                        },
                        "text/html": [
                            "<table>",
                            "<tr><th>job_title</th><th>avg_salaries</th><th>sd_salary</th><th>min_salaries</th><th>max_salaries</th></tr>",
                            "<tr><td>Data Engineer</td><td>142785.7346153846</td><td>58038.09001415865</td><td>12000</td><td>324000</td></tr>",
                            "<tr><td>Data Scientist</td><td>140869.76547619049</td><td>60687.4554939087</td><td>5679</td><td>412000</td></tr>",
                            "<tr><td>Data Analyst</td><td>108716.227124183</td><td>46912.103453143216</td><td>5723</td><td>430967</td></tr>",
                            "</table>"
                        ]
                    }
                }
            ],
            "execution_count": 27
        },
        {
            "cell_type": "markdown",
            "source": [
                "Drilling down to check their yearly trend concentrating only on Data Sciencist, Data Enginner and Data Analyst.\n",
                "\n",
                "**<mark>My observation</mark>**: There was an increase compensation/salary to data professionals. Can I say DS will be earning more than DE since they earn more in 2023...lol? 😁🙈"
            ],
            "metadata": {
                "language": "sql",
                "azdata_cell_guid": "a4eac7ea-eb23-4a7d-9ae6-94c6faac2957"
            },
            "attachments": {}
        },
        {
            "cell_type": "code",
            "source": [
                "SELECT\twork_year,\r\n",
                "\t\tjob_title,\r\n",
                "\t\tAVG(salary_in_usd) AS avg_salaries,\r\n",
                "\t\tSTDEV(salary_in_usd) AS sd_salary,\r\n",
                "\t\tMIN(salary_in_usd) AS min_salaries, \r\n",
                "\t\tMAX(salary_in_usd) AS max_salaries\r\n",
                "FROM DSSalary.dbo.Salaries\r\n",
                "GROUP BY work_year, job_title\r\n",
                "HAVING job_title IN ('Data Scientist', 'Data Engineer', 'Data Analyst') \r\n",
                "ORDER BY 1 DESC, 3 DESC"
            ],
            "metadata": {
                "language": "sql",
                "azdata_cell_guid": "7b845d8d-329a-48c2-9446-49cfc7c68e66"
            },
            "outputs": [
                {
                    "output_type": "display_data",
                    "data": {
                        "text/html": "(12 rows affected)"
                    },
                    "metadata": {}
                },
                {
                    "output_type": "display_data",
                    "data": {
                        "text/html": "Total execution time: 00:00:00.251"
                    },
                    "metadata": {}
                },
                {
                    "output_type": "execute_result",
                    "metadata": {},
                    "execution_count": 28,
                    "data": {
                        "application/vnd.dataresource+json": {
                            "schema": {
                                "fields": [
                                    {
                                        "name": "work_year"
                                    },
                                    {
                                        "name": "job_title"
                                    },
                                    {
                                        "name": "avg_salaries"
                                    },
                                    {
                                        "name": "sd_salary"
                                    },
                                    {
                                        "name": "min_salaries"
                                    },
                                    {
                                        "name": "max_salaries"
                                    }
                                ]
                            },
                            "data": [
                                {
                                    "work_year": "2023",
                                    "job_title": "Data Scientist",
                                    "avg_salaries": "156812.12162162163",
                                    "sd_salary": "60379.90132143969",
                                    "min_salaries": "9727",
                                    "max_salaries": "370000"
                                },
                                {
                                    "work_year": "2023",
                                    "job_title": "Data Engineer",
                                    "avg_salaries": "151647.2885771543",
                                    "sd_salary": "57397.407470286766",
                                    "min_salaries": "12000",
                                    "max_salaries": "310000"
                                },
                                {
                                    "work_year": "2023",
                                    "job_title": "Data Analyst",
                                    "avg_salaries": "114097.47557003258",
                                    "sd_salary": "46117.77601047322",
                                    "min_salaries": "15806",
                                    "max_salaries": "385000"
                                },
                                {
                                    "work_year": "2022",
                                    "job_title": "Data Engineer",
                                    "avg_salaries": "139589.8893442623",
                                    "sd_salary": "55787.691192699145",
                                    "min_salaries": "24000",
                                    "max_salaries": "324000"
                                },
                                {
                                    "work_year": "2022",
                                    "job_title": "Data Scientist",
                                    "avg_salaries": "136487.0962962963",
                                    "sd_salary": "53692.916331821194",
                                    "min_salaries": "10000",
                                    "max_salaries": "350000"
                                },
                                {
                                    "work_year": "2022",
                                    "job_title": "Data Analyst",
                                    "avg_salaries": "107207.39855072464",
                                    "sd_salary": "46071.79582371841",
                                    "min_salaries": "5723",
                                    "max_salaries": "430967"
                                },
                                {
                                    "work_year": "2021",
                                    "job_title": "Data Engineer",
                                    "avg_salaries": "93931.5",
                                    "sd_salary": "54480.99900151155",
                                    "min_salaries": "12103",
                                    "max_salaries": "200000"
                                },
                                {
                                    "work_year": "2021",
                                    "job_title": "Data Analyst",
                                    "avg_salaries": "75024.95238095238",
                                    "sd_salary": "40557.718354804165",
                                    "min_salaries": "10354",
                                    "max_salaries": "200000"
                                },
                                {
                                    "work_year": "2021",
                                    "job_title": "Data Scientist",
                                    "avg_salaries": "73351.43181818182",
                                    "sd_salary": "43588.45674930394",
                                    "min_salaries": "5679",
                                    "max_salaries": "165000"
                                },
                                {
                                    "work_year": "2020",
                                    "job_title": "Data Scientist",
                                    "avg_salaries": "85970.52380952382",
                                    "sd_salary": "81436.64871089616",
                                    "min_salaries": "21669",
                                    "max_salaries": "412000"
                                },
                                {
                                    "work_year": "2020",
                                    "job_title": "Data Engineer",
                                    "avg_salaries": "75726.93333333333",
                                    "sd_salary": "47306.8815040486",
                                    "min_salaries": "13493",
                                    "max_salaries": "188000"
                                },
                                {
                                    "work_year": "2020",
                                    "job_title": "Data Analyst",
                                    "avg_salaries": "42705",
                                    "sd_salary": "35872.36808862379",
                                    "min_salaries": "6072",
                                    "max_salaries": "91000"
                                }
                            ]
                        },
                        "text/html": [
                            "<table>",
                            "<tr><th>work_year</th><th>job_title</th><th>avg_salaries</th><th>sd_salary</th><th>min_salaries</th><th>max_salaries</th></tr>",
                            "<tr><td>2023</td><td>Data Scientist</td><td>156812.12162162163</td><td>60379.90132143969</td><td>9727</td><td>370000</td></tr>",
                            "<tr><td>2023</td><td>Data Engineer</td><td>151647.2885771543</td><td>57397.407470286766</td><td>12000</td><td>310000</td></tr>",
                            "<tr><td>2023</td><td>Data Analyst</td><td>114097.47557003258</td><td>46117.77601047322</td><td>15806</td><td>385000</td></tr>",
                            "<tr><td>2022</td><td>Data Engineer</td><td>139589.8893442623</td><td>55787.691192699145</td><td>24000</td><td>324000</td></tr>",
                            "<tr><td>2022</td><td>Data Scientist</td><td>136487.0962962963</td><td>53692.916331821194</td><td>10000</td><td>350000</td></tr>",
                            "<tr><td>2022</td><td>Data Analyst</td><td>107207.39855072464</td><td>46071.79582371841</td><td>5723</td><td>430967</td></tr>",
                            "<tr><td>2021</td><td>Data Engineer</td><td>93931.5</td><td>54480.99900151155</td><td>12103</td><td>200000</td></tr>",
                            "<tr><td>2021</td><td>Data Analyst</td><td>75024.95238095238</td><td>40557.718354804165</td><td>10354</td><td>200000</td></tr>",
                            "<tr><td>2021</td><td>Data Scientist</td><td>73351.43181818182</td><td>43588.45674930394</td><td>5679</td><td>165000</td></tr>",
                            "<tr><td>2020</td><td>Data Scientist</td><td>85970.52380952382</td><td>81436.64871089616</td><td>21669</td><td>412000</td></tr>",
                            "<tr><td>2020</td><td>Data Engineer</td><td>75726.93333333333</td><td>47306.8815040486</td><td>13493</td><td>188000</td></tr>",
                            "<tr><td>2020</td><td>Data Analyst</td><td>42705</td><td>35872.36808862379</td><td>6072</td><td>91000</td></tr>",
                            "</table>"
                        ]
                    }
                }
            ],
            "execution_count": 28
        },
        {
            "cell_type": "markdown",
            "source": [
                "Where can we find our data talents? Well, let us determine where majority of the data professionals resides.\n",
                "\n",
                "**<mark>My observation</mark>**: Majority are Americans. As a Nigerian, I had to scroll to determine if there were any Nigerians and we have 7 Nigerians."
            ],
            "metadata": {
                "language": "sql",
                "azdata_cell_guid": "3299b599-994f-4f8a-9a48-42b9c1c8b2a3"
            },
            "attachments": {}
        },
        {
            "cell_type": "code",
            "source": [
                "SELECT\tcou.CountryName AS professionals_residence,\r\n",
                "\t\tCOUNT(*) AS num_professionals, \r\n",
                "\t\tAVG(sal.salary_in_usd) AS avg_salary\r\n",
                "FROM DSSalary.dbo.CountryCodes cou\r\n",
                "JOIN DSSalary.dbo.Salaries sal \r\n",
                "\tON cou.Code = sal.employee_residence\r\n",
                "GROUP BY cou.CountryName\r\n",
                "ORDER BY 2 DESC"
            ],
            "metadata": {
                "language": "sql",
                "azdata_cell_guid": "fd787d0e-4503-48ad-b01d-40ba84774600"
            },
            "outputs": [
                {
                    "output_type": "display_data",
                    "data": {
                        "text/html": "(78 rows affected)"
                    },
                    "metadata": {}
                },
                {
                    "output_type": "display_data",
                    "data": {
                        "text/html": "Total execution time: 00:00:00.449"
                    },
                    "metadata": {}
                },
                {
                    "output_type": "execute_result",
                    "metadata": {},
                    "execution_count": 29,
                    "data": {
                        "application/vnd.dataresource+json": {
                            "schema": {
                                "fields": [
                                    {
                                        "name": "professionals_residence"
                                    },
                                    {
                                        "name": "num_professionals"
                                    },
                                    {
                                        "name": "avg_salary"
                                    }
                                ]
                            },
                            "data": [
                                {
                                    "professionals_residence": "United States of America",
                                    "num_professionals": "3004",
                                    "avg_salary": "152822.01165113182"
                                },
                                {
                                    "professionals_residence": "United Kingdom of Great Britain and Northern Ireland",
                                    "num_professionals": "167",
                                    "avg_salary": "86988.32335329341"
                                },
                                {
                                    "professionals_residence": "Canada",
                                    "num_professionals": "85",
                                    "avg_salary": "132222.90588235293"
                                },
                                {
                                    "professionals_residence": "Spain",
                                    "num_professionals": "80",
                                    "avg_salary": "60463.35"
                                },
                                {
                                    "professionals_residence": "India",
                                    "num_professionals": "71",
                                    "avg_salary": "36218.45070422535"
                                },
                                {
                                    "professionals_residence": "Germany",
                                    "num_professionals": "48",
                                    "avg_salary": "94772.25"
                                },
                                {
                                    "professionals_residence": "France",
                                    "num_professionals": "38",
                                    "avg_salary": "61492.5"
                                },
                                {
                                    "professionals_residence": "Portugal",
                                    "num_professionals": "18",
                                    "avg_salary": "53059"
                                },
                                {
                                    "professionals_residence": "Brazil",
                                    "num_professionals": "18",
                                    "avg_salary": "48927.11111111111"
                                },
                                {
                                    "professionals_residence": "Greece",
                                    "num_professionals": "16",
                                    "avg_salary": "55136.0625"
                                },
                                {
                                    "professionals_residence": "Netherlands, Kingdom of the",
                                    "num_professionals": "15",
                                    "avg_salary": "77483.46666666666"
                                },
                                {
                                    "professionals_residence": "Australia",
                                    "num_professionals": "11",
                                    "avg_salary": "77980.54545454546"
                                },
                                {
                                    "professionals_residence": "Mexico",
                                    "num_professionals": "10",
                                    "avg_salary": "92351.1"
                                },
                                {
                                    "professionals_residence": "Italy",
                                    "num_professionals": "8",
                                    "avg_salary": "50816.25"
                                },
                                {
                                    "professionals_residence": "Pakistan",
                                    "num_professionals": "8",
                                    "avg_salary": "30277.125"
                                },
                                {
                                    "professionals_residence": "Nigeria",
                                    "num_professionals": "7",
                                    "avg_salary": "65000"
                                },
                                {
                                    "professionals_residence": "Japan",
                                    "num_professionals": "7",
                                    "avg_salary": "103537.71428571429"
                                },
                                {
                                    "professionals_residence": "Ireland",
                                    "num_professionals": "7",
                                    "avg_salary": "114943.42857142857"
                                },
                                {
                                    "professionals_residence": "Poland",
                                    "num_professionals": "6",
                                    "avg_salary": "47478.833333333336"
                                },
                                {
                                    "professionals_residence": "Austria",
                                    "num_professionals": "6",
                                    "avg_salary": "71125.83333333333"
                                },
                                {
                                    "professionals_residence": "Argentina",
                                    "num_professionals": "6",
                                    "avg_salary": "35500"
                                },
                                {
                                    "professionals_residence": "Belgium",
                                    "num_professionals": "5",
                                    "avg_salary": "71491.8"
                                },
                                {
                                    "professionals_residence": "Puerto Rico",
                                    "num_professionals": "5",
                                    "avg_salary": "166000"
                                },
                                {
                                    "professionals_residence": "Singapore",
                                    "num_professionals": "5",
                                    "avg_salary": "83120"
                                },
                                {
                                    "professionals_residence": "T�rkiye",
                                    "num_professionals": "5",
                                    "avg_salary": "19058"
                                },
                                {
                                    "professionals_residence": "Ukraine",
                                    "num_professionals": "4",
                                    "avg_salary": "57850"
                                },
                                {
                                    "professionals_residence": "Slovenia",
                                    "num_professionals": "4",
                                    "avg_salary": "62766.75"
                                },
                                {
                                    "professionals_residence": "Russian Federation",
                                    "num_professionals": "4",
                                    "avg_salary": "105750"
                                },
                                {
                                    "professionals_residence": "Switzerland",
                                    "num_professionals": "4",
                                    "avg_salary": "100682"
                                },
                                {
                                    "professionals_residence": "Latvia",
                                    "num_professionals": "4",
                                    "avg_salary": "57946.5"
                                },
                                {
                                    "professionals_residence": "Colombia",
                                    "num_professionals": "4",
                                    "avg_salary": "64961"
                                },
                                {
                                    "professionals_residence": "Bolivia (Plurinational State of)",
                                    "num_professionals": "3",
                                    "avg_salary": "52500"
                                },
                                {
                                    "professionals_residence": "Denmark",
                                    "num_professionals": "3",
                                    "avg_salary": "31192.666666666668"
                                },
                                {
                                    "professionals_residence": "Croatia",
                                    "num_professionals": "3",
                                    "avg_salary": "75967.66666666667"
                                },
                                {
                                    "professionals_residence": "Thailand",
                                    "num_professionals": "3",
                                    "avg_salary": "23064.333333333332"
                                },
                                {
                                    "professionals_residence": "Romania",
                                    "num_professionals": "3",
                                    "avg_salary": "52164"
                                },
                                {
                                    "professionals_residence": "Hungary",
                                    "num_professionals": "3",
                                    "avg_salary": "29892.666666666668"
                                },
                                {
                                    "professionals_residence": "United Arab Emirates",
                                    "num_professionals": "3",
                                    "avg_salary": "100000"
                                },
                                {
                                    "professionals_residence": "Viet Nam",
                                    "num_professionals": "3",
                                    "avg_salary": "33466.666666666664"
                                },
                                {
                                    "professionals_residence": "Uzbekistan",
                                    "num_professionals": "2",
                                    "avg_salary": "103000"
                                },
                                {
                                    "professionals_residence": "Philippines",
                                    "num_professionals": "2",
                                    "avg_salary": "47880"
                                },
                                {
                                    "professionals_residence": "Sweden",
                                    "num_professionals": "2",
                                    "avg_salary": "105000"
                                },
                                {
                                    "professionals_residence": "Lithuania",
                                    "num_professionals": "2",
                                    "avg_salary": "94812"
                                },
                                {
                                    "professionals_residence": "Hong Kong",
                                    "num_professionals": "2",
                                    "avg_salary": "65542"
                                },
                                {
                                    "professionals_residence": "Kenya",
                                    "num_professionals": "2",
                                    "avg_salary": "44636"
                                },
                                {
                                    "professionals_residence": "Czechia",
                                    "num_professionals": "2",
                                    "avg_salary": "37565.5"
                                },
                                {
                                    "professionals_residence": "Finland",
                                    "num_professionals": "2",
                                    "avg_salary": "69030"
                                },
                                {
                                    "professionals_residence": "Ghana",
                                    "num_professionals": "2",
                                    "avg_salary": "18500"
                                },
                                {
                                    "professionals_residence": "American Samoa",
                                    "num_professionals": "2",
                                    "avg_salary": "32777.5"
                                },
                                {
                                    "professionals_residence": "Central African Republic",
                                    "num_professionals": "2",
                                    "avg_salary": "48609"
                                },
                                {
                                    "professionals_residence": "Chile",
                                    "num_professionals": "2",
                                    "avg_salary": "72519"
                                },
                                {
                                    "professionals_residence": "China",
                                    "num_professionals": "1",
                                    "avg_salary": "125404"
                                },
                                {
                                    "professionals_residence": "Costa Rica",
                                    "num_professionals": "1",
                                    "avg_salary": "20000"
                                },
                                {
                                    "professionals_residence": "Bulgaria",
                                    "num_professionals": "1",
                                    "avg_salary": "80000"
                                },
                                {
                                    "professionals_residence": "Algeria",
                                    "num_professionals": "1",
                                    "avg_salary": "100000"
                                },
                                {
                                    "professionals_residence": "Armenia",
                                    "num_professionals": "1",
                                    "avg_salary": "50000"
                                },
                                {
                                    "professionals_residence": "Bosnia and Herzegovina",
                                    "num_professionals": "1",
                                    "avg_salary": "120000"
                                },
                                {
                                    "professionals_residence": "Honduras",
                                    "num_professionals": "1",
                                    "avg_salary": "20000"
                                },
                                {
                                    "professionals_residence": "Indonesia",
                                    "num_professionals": "1",
                                    "avg_salary": "15000"
                                },
                                {
                                    "professionals_residence": "Iran (Islamic Republic of)",
                                    "num_professionals": "1",
                                    "avg_salary": "100000"
                                },
                                {
                                    "professionals_residence": "Iraq",
                                    "num_professionals": "1",
                                    "avg_salary": "100000"
                                },
                                {
                                    "professionals_residence": "Cyprus",
                                    "num_professionals": "1",
                                    "avg_salary": "63312"
                                },
                                {
                                    "professionals_residence": "Dominican Republic",
                                    "num_professionals": "1",
                                    "avg_salary": "110000"
                                },
                                {
                                    "professionals_residence": "Egypt",
                                    "num_professionals": "1",
                                    "avg_salary": "22800"
                                },
                                {
                                    "professionals_residence": "Estonia",
                                    "num_professionals": "1",
                                    "avg_salary": "31520"
                                },
                                {
                                    "professionals_residence": "Kuwait",
                                    "num_professionals": "1",
                                    "avg_salary": "50000"
                                },
                                {
                                    "professionals_residence": "Jersey",
                                    "num_professionals": "1",
                                    "avg_salary": "100000"
                                },
                                {
                                    "professionals_residence": "Israel",
                                    "num_professionals": "1",
                                    "avg_salary": "423834"
                                },
                                {
                                    "professionals_residence": "Luxembourg",
                                    "num_professionals": "1",
                                    "avg_salary": "59102"
                                },
                                {
                                    "professionals_residence": "Malaysia",
                                    "num_professionals": "1",
                                    "avg_salary": "200000"
                                },
                                {
                                    "professionals_residence": "Malta",
                                    "num_professionals": "1",
                                    "avg_salary": "28369"
                                },
                                {
                                    "professionals_residence": "Moldova, Republic of",
                                    "num_professionals": "1",
                                    "avg_salary": "18000"
                                },
                                {
                                    "professionals_residence": "Morocco",
                                    "num_professionals": "1",
                                    "avg_salary": "10000"
                                },
                                {
                                    "professionals_residence": "New Zealand",
                                    "num_professionals": "1",
                                    "avg_salary": "125000"
                                },
                                {
                                    "professionals_residence": "Serbia",
                                    "num_professionals": "1",
                                    "avg_salary": "25532"
                                },
                                {
                                    "professionals_residence": "Slovakia",
                                    "num_professionals": "1",
                                    "avg_salary": "12608"
                                },
                                {
                                    "professionals_residence": "North Macedonia",
                                    "num_professionals": "1",
                                    "avg_salary": "6304"
                                },
                                {
                                    "professionals_residence": "Tunisia",
                                    "num_professionals": "1",
                                    "avg_salary": "30469"
                                }
                            ]
                        },
                        "text/html": [
                            "<table>",
                            "<tr><th>professionals_residence</th><th>num_professionals</th><th>avg_salary</th></tr>",
                            "<tr><td>United States of America</td><td>3004</td><td>152822.01165113182</td></tr>",
                            "<tr><td>United Kingdom of Great Britain and Northern Ireland</td><td>167</td><td>86988.32335329341</td></tr>",
                            "<tr><td>Canada</td><td>85</td><td>132222.90588235293</td></tr>",
                            "<tr><td>Spain</td><td>80</td><td>60463.35</td></tr>",
                            "<tr><td>India</td><td>71</td><td>36218.45070422535</td></tr>",
                            "<tr><td>Germany</td><td>48</td><td>94772.25</td></tr>",
                            "<tr><td>France</td><td>38</td><td>61492.5</td></tr>",
                            "<tr><td>Portugal</td><td>18</td><td>53059</td></tr>",
                            "<tr><td>Brazil</td><td>18</td><td>48927.11111111111</td></tr>",
                            "<tr><td>Greece</td><td>16</td><td>55136.0625</td></tr>",
                            "<tr><td>Netherlands, Kingdom of the</td><td>15</td><td>77483.46666666666</td></tr>",
                            "<tr><td>Australia</td><td>11</td><td>77980.54545454546</td></tr>",
                            "<tr><td>Mexico</td><td>10</td><td>92351.1</td></tr>",
                            "<tr><td>Italy</td><td>8</td><td>50816.25</td></tr>",
                            "<tr><td>Pakistan</td><td>8</td><td>30277.125</td></tr>",
                            "<tr><td>Nigeria</td><td>7</td><td>65000</td></tr>",
                            "<tr><td>Japan</td><td>7</td><td>103537.71428571429</td></tr>",
                            "<tr><td>Ireland</td><td>7</td><td>114943.42857142857</td></tr>",
                            "<tr><td>Poland</td><td>6</td><td>47478.833333333336</td></tr>",
                            "<tr><td>Austria</td><td>6</td><td>71125.83333333333</td></tr>",
                            "<tr><td>Argentina</td><td>6</td><td>35500</td></tr>",
                            "<tr><td>Belgium</td><td>5</td><td>71491.8</td></tr>",
                            "<tr><td>Puerto Rico</td><td>5</td><td>166000</td></tr>",
                            "<tr><td>Singapore</td><td>5</td><td>83120</td></tr>",
                            "<tr><td>T�rkiye</td><td>5</td><td>19058</td></tr>",
                            "<tr><td>Ukraine</td><td>4</td><td>57850</td></tr>",
                            "<tr><td>Slovenia</td><td>4</td><td>62766.75</td></tr>",
                            "<tr><td>Russian Federation</td><td>4</td><td>105750</td></tr>",
                            "<tr><td>Switzerland</td><td>4</td><td>100682</td></tr>",
                            "<tr><td>Latvia</td><td>4</td><td>57946.5</td></tr>",
                            "<tr><td>Colombia</td><td>4</td><td>64961</td></tr>",
                            "<tr><td>Bolivia (Plurinational State of)</td><td>3</td><td>52500</td></tr>",
                            "<tr><td>Denmark</td><td>3</td><td>31192.666666666668</td></tr>",
                            "<tr><td>Croatia</td><td>3</td><td>75967.66666666667</td></tr>",
                            "<tr><td>Thailand</td><td>3</td><td>23064.333333333332</td></tr>",
                            "<tr><td>Romania</td><td>3</td><td>52164</td></tr>",
                            "<tr><td>Hungary</td><td>3</td><td>29892.666666666668</td></tr>",
                            "<tr><td>United Arab Emirates</td><td>3</td><td>100000</td></tr>",
                            "<tr><td>Viet Nam</td><td>3</td><td>33466.666666666664</td></tr>",
                            "<tr><td>Uzbekistan</td><td>2</td><td>103000</td></tr>",
                            "<tr><td>Philippines</td><td>2</td><td>47880</td></tr>",
                            "<tr><td>Sweden</td><td>2</td><td>105000</td></tr>",
                            "<tr><td>Lithuania</td><td>2</td><td>94812</td></tr>",
                            "<tr><td>Hong Kong</td><td>2</td><td>65542</td></tr>",
                            "<tr><td>Kenya</td><td>2</td><td>44636</td></tr>",
                            "<tr><td>Czechia</td><td>2</td><td>37565.5</td></tr>",
                            "<tr><td>Finland</td><td>2</td><td>69030</td></tr>",
                            "<tr><td>Ghana</td><td>2</td><td>18500</td></tr>",
                            "<tr><td>American Samoa</td><td>2</td><td>32777.5</td></tr>",
                            "<tr><td>Central African Republic</td><td>2</td><td>48609</td></tr>",
                            "<tr><td>Chile</td><td>2</td><td>72519</td></tr>",
                            "<tr><td>China</td><td>1</td><td>125404</td></tr>",
                            "<tr><td>Costa Rica</td><td>1</td><td>20000</td></tr>",
                            "<tr><td>Bulgaria</td><td>1</td><td>80000</td></tr>",
                            "<tr><td>Algeria</td><td>1</td><td>100000</td></tr>",
                            "<tr><td>Armenia</td><td>1</td><td>50000</td></tr>",
                            "<tr><td>Bosnia and Herzegovina</td><td>1</td><td>120000</td></tr>",
                            "<tr><td>Honduras</td><td>1</td><td>20000</td></tr>",
                            "<tr><td>Indonesia</td><td>1</td><td>15000</td></tr>",
                            "<tr><td>Iran (Islamic Republic of)</td><td>1</td><td>100000</td></tr>",
                            "<tr><td>Iraq</td><td>1</td><td>100000</td></tr>",
                            "<tr><td>Cyprus</td><td>1</td><td>63312</td></tr>",
                            "<tr><td>Dominican Republic</td><td>1</td><td>110000</td></tr>",
                            "<tr><td>Egypt</td><td>1</td><td>22800</td></tr>",
                            "<tr><td>Estonia</td><td>1</td><td>31520</td></tr>",
                            "<tr><td>Kuwait</td><td>1</td><td>50000</td></tr>",
                            "<tr><td>Jersey</td><td>1</td><td>100000</td></tr>",
                            "<tr><td>Israel</td><td>1</td><td>423834</td></tr>",
                            "<tr><td>Luxembourg</td><td>1</td><td>59102</td></tr>",
                            "<tr><td>Malaysia</td><td>1</td><td>200000</td></tr>",
                            "<tr><td>Malta</td><td>1</td><td>28369</td></tr>",
                            "<tr><td>Moldova, Republic of</td><td>1</td><td>18000</td></tr>",
                            "<tr><td>Morocco</td><td>1</td><td>10000</td></tr>",
                            "<tr><td>New Zealand</td><td>1</td><td>125000</td></tr>",
                            "<tr><td>Serbia</td><td>1</td><td>25532</td></tr>",
                            "<tr><td>Slovakia</td><td>1</td><td>12608</td></tr>",
                            "<tr><td>North Macedonia</td><td>1</td><td>6304</td></tr>",
                            "<tr><td>Tunisia</td><td>1</td><td>30469</td></tr>",
                            "</table>"
                        ]
                    }
                }
            ],
            "execution_count": 29
        },
        {
            "cell_type": "markdown",
            "source": [
                "Does company size affect their salaries?\n",
                "\n",
                "**<mark>My observation</mark>**: From this dataset, I discovered that medium sized company pay more than large sized companies. So, can company size does not really matter since medium sized company paid their employee on average more than Large companies?"
            ],
            "metadata": {
                "language": "sql",
                "azdata_cell_guid": "15bf9eea-c4a7-48f0-8ea9-abebe40105e8"
            },
            "attachments": {}
        },
        {
            "cell_type": "code",
            "source": [
                "SELECT\tcompany_size,\r\n",
                "\t\tAVG(salary_in_usd) AS avg_salaries,\r\n",
                "\t\tSTDEV(salary_in_usd) AS sd_salary,\r\n",
                "\t\tMIN(salary_in_usd) AS min_salaries,\r\n",
                "\t\tMAX(salary_in_usd) AS max_salaries\r\n",
                "FROM Salaries\r\n",
                "GROUP BY company_size\r\n",
                "ORDER BY 2 DESC"
            ],
            "metadata": {
                "language": "sql",
                "azdata_cell_guid": "1984e604-8d75-4713-8ff3-2a41e523f3ce"
            },
            "outputs": [
                {
                    "output_type": "display_data",
                    "data": {
                        "text/html": "(3 rows affected)"
                    },
                    "metadata": {}
                },
                {
                    "output_type": "display_data",
                    "data": {
                        "text/html": "Total execution time: 00:00:00.227"
                    },
                    "metadata": {}
                },
                {
                    "output_type": "execute_result",
                    "metadata": {},
                    "execution_count": 30,
                    "data": {
                        "application/vnd.dataresource+json": {
                            "schema": {
                                "fields": [
                                    {
                                        "name": "company_size"
                                    },
                                    {
                                        "name": "avg_salaries"
                                    },
                                    {
                                        "name": "sd_salary"
                                    },
                                    {
                                        "name": "min_salaries"
                                    },
                                    {
                                        "name": "max_salaries"
                                    }
                                ]
                            },
                            "data": [
                                {
                                    "company_size": "Medium",
                                    "avg_salaries": "143130.54836663496",
                                    "sd_salary": "58992.813381565655",
                                    "min_salaries": "5132",
                                    "max_salaries": "450000"
                                },
                                {
                                    "company_size": "Large",
                                    "avg_salaries": "118300.98237885462",
                                    "sd_salary": "75832.39150456827",
                                    "min_salaries": "5409",
                                    "max_salaries": "423834"
                                },
                                {
                                    "company_size": "Small",
                                    "avg_salaries": "78226.68243243243",
                                    "sd_salary": "61955.14179207966",
                                    "min_salaries": "5679",
                                    "max_salaries": "416000"
                                }
                            ]
                        },
                        "text/html": [
                            "<table>",
                            "<tr><th>company_size</th><th>avg_salaries</th><th>sd_salary</th><th>min_salaries</th><th>max_salaries</th></tr>",
                            "<tr><td>Medium</td><td>143130.54836663496</td><td>58992.813381565655</td><td>5132</td><td>450000</td></tr>",
                            "<tr><td>Large</td><td>118300.98237885462</td><td>75832.39150456827</td><td>5409</td><td>423834</td></tr>",
                            "<tr><td>Small</td><td>78226.68243243243</td><td>61955.14179207966</td><td>5679</td><td>416000</td></tr>",
                            "</table>"
                        ]
                    }
                }
            ],
            "execution_count": 30
        },
        {
            "cell_type": "markdown",
            "source": [
                "Let's explore the average, standard deviation minimum and maximum salaries of DA, DE and DS  based on their experience level\n",
                "\n",
                "**<mark>My observation</mark>:** This reveals that DE earn more than other DA and DS regardless of experience."
            ],
            "metadata": {
                "language": "sql",
                "azdata_cell_guid": "76e7c5ec-0df9-4094-8334-a2a475ebbfb9"
            },
            "attachments": {}
        },
        {
            "cell_type": "code",
            "source": [
                "SELECT\tjob_title,\r\n",
                "\t\texperience_level,\r\n",
                "\t\tAVG(salary_in_usd) AS avg_salary,\r\n",
                "\t\tSTDEV(salary_in_usd) AS sd_salary,\r\n",
                "\t\tMIN(salary_in_usd) AS min_salary,\r\n",
                "\t\tMAX(salary_in_usd) AS max_salary\r\n",
                "FROM Salaries\r\n",
                "GROUP BY experience_level, job_title\r\n",
                "HAVING job_title IN ('Data Scientist', 'Data Engineer', 'Data Analyst') \r\n",
                "ORDER BY 1, 3"
            ],
            "metadata": {
                "language": "sql",
                "azdata_cell_guid": "92d24d82-15f8-4bc5-96d5-8787d5c1d4ef"
            },
            "outputs": [
                {
                    "output_type": "display_data",
                    "data": {
                        "text/html": "(12 rows affected)"
                    },
                    "metadata": {}
                },
                {
                    "output_type": "display_data",
                    "data": {
                        "text/html": "Total execution time: 00:00:00.173"
                    },
                    "metadata": {}
                },
                {
                    "output_type": "execute_result",
                    "metadata": {},
                    "execution_count": 31,
                    "data": {
                        "application/vnd.dataresource+json": {
                            "schema": {
                                "fields": [
                                    {
                                        "name": "job_title"
                                    },
                                    {
                                        "name": "experience_level"
                                    },
                                    {
                                        "name": "avg_salary"
                                    },
                                    {
                                        "name": "sd_salary"
                                    },
                                    {
                                        "name": "min_salary"
                                    },
                                    {
                                        "name": "max_salary"
                                    }
                                ]
                            },
                            "data": [
                                {
                                    "job_title": "Data Analyst",
                                    "experience_level": "Entry-level",
                                    "avg_salary": "59802.74603174603",
                                    "sd_salary": "31161.34192158313",
                                    "min_salary": "6072",
                                    "max_salary": "150000"
                                },
                                {
                                    "job_title": "Data Analyst",
                                    "experience_level": "Mid-level",
                                    "avg_salary": "101516.62275449102",
                                    "sd_salary": "49503.38354039237",
                                    "min_salary": "5723",
                                    "max_salary": "430967"
                                },
                                {
                                    "job_title": "Data Analyst",
                                    "experience_level": "Senior-level",
                                    "avg_salary": "119930.21578947369",
                                    "sd_salary": "42046.20920427138",
                                    "min_salary": "15806",
                                    "max_salary": "385000"
                                },
                                {
                                    "job_title": "Data Analyst",
                                    "experience_level": "Executive-level",
                                    "avg_salary": "120000",
                                    "sd_salary": "14142.13562373095",
                                    "min_salary": "110000",
                                    "max_salary": "130000"
                                },
                                {
                                    "job_title": "Data Engineer",
                                    "experience_level": "Entry-level",
                                    "avg_salary": "91526.74242424243",
                                    "sd_salary": "45169.0112588472",
                                    "min_salary": "12000",
                                    "max_salary": "160000"
                                },
                                {
                                    "job_title": "Data Engineer",
                                    "experience_level": "Mid-level",
                                    "avg_salary": "106074.89268292683",
                                    "sd_salary": "44505.08429258828",
                                    "min_salary": "12103",
                                    "max_salary": "260000"
                                },
                                {
                                    "job_title": "Data Engineer",
                                    "experience_level": "Senior-level",
                                    "avg_salary": "153210.41364902508",
                                    "sd_salary": "52635.16459138578",
                                    "min_salary": "25000",
                                    "max_salary": "315000"
                                },
                                {
                                    "job_title": "Data Engineer",
                                    "experience_level": "Executive-level",
                                    "avg_salary": "209920.96078431373",
                                    "sd_salary": "66197.83037319597",
                                    "min_salary": "79833",
                                    "max_salary": "324000"
                                },
                                {
                                    "job_title": "Data Scientist",
                                    "experience_level": "Entry-level",
                                    "avg_salary": "74085.96610169491",
                                    "sd_salary": "44628.96397847405",
                                    "min_salary": "9727",
                                    "max_salary": "190000"
                                },
                                {
                                    "job_title": "Data Scientist",
                                    "experience_level": "Mid-level",
                                    "avg_salary": "93945.8198757764",
                                    "sd_salary": "46279.30230120267",
                                    "min_salary": "5679",
                                    "max_salary": "225000"
                                },
                                {
                                    "job_title": "Data Scientist",
                                    "experience_level": "Senior-level",
                                    "avg_salary": "158990.9605263158",
                                    "sd_salary": "53857.52616586508",
                                    "min_salary": "20171",
                                    "max_salary": "412000"
                                },
                                {
                                    "job_title": "Data Scientist",
                                    "experience_level": "Executive-level",
                                    "avg_salary": "180645.83333333334",
                                    "sd_salary": "56276.55517956647",
                                    "min_salary": "100000",
                                    "max_salary": "300000"
                                }
                            ]
                        },
                        "text/html": [
                            "<table>",
                            "<tr><th>job_title</th><th>experience_level</th><th>avg_salary</th><th>sd_salary</th><th>min_salary</th><th>max_salary</th></tr>",
                            "<tr><td>Data Analyst</td><td>Entry-level</td><td>59802.74603174603</td><td>31161.34192158313</td><td>6072</td><td>150000</td></tr>",
                            "<tr><td>Data Analyst</td><td>Mid-level</td><td>101516.62275449102</td><td>49503.38354039237</td><td>5723</td><td>430967</td></tr>",
                            "<tr><td>Data Analyst</td><td>Senior-level</td><td>119930.21578947369</td><td>42046.20920427138</td><td>15806</td><td>385000</td></tr>",
                            "<tr><td>Data Analyst</td><td>Executive-level</td><td>120000</td><td>14142.13562373095</td><td>110000</td><td>130000</td></tr>",
                            "<tr><td>Data Engineer</td><td>Entry-level</td><td>91526.74242424243</td><td>45169.0112588472</td><td>12000</td><td>160000</td></tr>",
                            "<tr><td>Data Engineer</td><td>Mid-level</td><td>106074.89268292683</td><td>44505.08429258828</td><td>12103</td><td>260000</td></tr>",
                            "<tr><td>Data Engineer</td><td>Senior-level</td><td>153210.41364902508</td><td>52635.16459138578</td><td>25000</td><td>315000</td></tr>",
                            "<tr><td>Data Engineer</td><td>Executive-level</td><td>209920.96078431373</td><td>66197.83037319597</td><td>79833</td><td>324000</td></tr>",
                            "<tr><td>Data Scientist</td><td>Entry-level</td><td>74085.96610169491</td><td>44628.96397847405</td><td>9727</td><td>190000</td></tr>",
                            "<tr><td>Data Scientist</td><td>Mid-level</td><td>93945.8198757764</td><td>46279.30230120267</td><td>5679</td><td>225000</td></tr>",
                            "<tr><td>Data Scientist</td><td>Senior-level</td><td>158990.9605263158</td><td>53857.52616586508</td><td>20171</td><td>412000</td></tr>",
                            "<tr><td>Data Scientist</td><td>Executive-level</td><td>180645.83333333334</td><td>56276.55517956647</td><td>100000</td><td>300000</td></tr>",
                            "</table>"
                        ]
                    }
                }
            ],
            "execution_count": 31
        },
        {
            "cell_type": "markdown",
            "source": [
                "Let's explore the yearly trend average, standard deviation, minimum and maximum salaries of DA, DE and DS  based on their experience level"
            ],
            "metadata": {
                "language": "sql",
                "azdata_cell_guid": "44662190-7b85-442a-a87b-61183b37cc1e"
            },
            "attachments": {}
        },
        {
            "cell_type": "code",
            "source": [
                "SELECT\twork_year,\r\n",
                "\t\tjob_title, \r\n",
                "\t\texperience_level, \r\n",
                "\t\tAVG(salary_in_usd) AS avg_salary,\r\n",
                "\t\tSTDEV(salary_in_usd) AS sd_salary,\r\n",
                "\t\tMIN(salary_in_usd) AS min_salary,\r\n",
                "\t\tMAX(salary_in_usd) AS max_salary\r\n",
                "FROM DSSalary..Salaries\r\n",
                "GROUP BY experience_level, job_title, work_year\r\n",
                "HAVING job_title IN ('Data Scientist', 'Data Engineer', 'Data Analyst') \r\n",
                "ORDER BY 1 DESC, 2, 4"
            ],
            "metadata": {
                "language": "sql",
                "azdata_cell_guid": "9315fc64-f557-40d6-a983-d84c4a494472"
            },
            "outputs": [
                {
                    "output_type": "display_data",
                    "data": {
                        "text/html": "(41 rows affected)"
                    },
                    "metadata": {}
                },
                {
                    "output_type": "display_data",
                    "data": {
                        "text/html": "Total execution time: 00:00:00.177"
                    },
                    "metadata": {}
                },
                {
                    "output_type": "execute_result",
                    "metadata": {},
                    "execution_count": 32,
                    "data": {
                        "application/vnd.dataresource+json": {
                            "schema": {
                                "fields": [
                                    {
                                        "name": "work_year"
                                    },
                                    {
                                        "name": "job_title"
                                    },
                                    {
                                        "name": "experience_level"
                                    },
                                    {
                                        "name": "avg_salary"
                                    },
                                    {
                                        "name": "sd_salary"
                                    },
                                    {
                                        "name": "min_salary"
                                    },
                                    {
                                        "name": "max_salary"
                                    }
                                ]
                            },
                            "data": [
                                {
                                    "work_year": "2023",
                                    "job_title": "Data Analyst",
                                    "experience_level": "Entry-level",
                                    "avg_salary": "69523.1875",
                                    "sd_salary": "25352.525613752325",
                                    "min_salary": "17779",
                                    "max_salary": "150000"
                                },
                                {
                                    "work_year": "2023",
                                    "job_title": "Data Analyst",
                                    "experience_level": "Mid-level",
                                    "avg_salary": "102252.40789473684",
                                    "sd_salary": "37276.282325424254",
                                    "min_salary": "42533",
                                    "max_salary": "206000"
                                },
                                {
                                    "work_year": "2023",
                                    "job_title": "Data Analyst",
                                    "experience_level": "Senior-level",
                                    "avg_salary": "125788.94472361809",
                                    "sd_salary": "46342.60531351689",
                                    "min_salary": "15806",
                                    "max_salary": "385000"
                                },
                                {
                                    "work_year": "2023",
                                    "job_title": "Data Engineer",
                                    "experience_level": "Entry-level",
                                    "avg_salary": "93027.3870967742",
                                    "sd_salary": "41700.8309914622",
                                    "min_salary": "12000",
                                    "max_salary": "160000"
                                },
                                {
                                    "work_year": "2023",
                                    "job_title": "Data Engineer",
                                    "experience_level": "Mid-level",
                                    "avg_salary": "119405.67469879518",
                                    "sd_salary": "42755.70880698869",
                                    "min_salary": "48289",
                                    "max_salary": "260000"
                                },
                                {
                                    "work_year": "2023",
                                    "job_title": "Data Engineer",
                                    "experience_level": "Senior-level",
                                    "avg_salary": "159132.20916905443",
                                    "sd_salary": "53249.62741663757",
                                    "min_salary": "37558",
                                    "max_salary": "310000"
                                },
                                {
                                    "work_year": "2023",
                                    "job_title": "Data Engineer",
                                    "experience_level": "Executive-level",
                                    "avg_salary": "203898.22222222222",
                                    "sd_salary": "63508.79964005487",
                                    "min_salary": "106500",
                                    "max_salary": "310000"
                                },
                                {
                                    "work_year": "2023",
                                    "job_title": "Data Scientist",
                                    "experience_level": "Entry-level",
                                    "avg_salary": "78459.42857142857",
                                    "sd_salary": "55556.99461982094",
                                    "min_salary": "9727",
                                    "max_salary": "190000"
                                },
                                {
                                    "work_year": "2023",
                                    "job_title": "Data Scientist",
                                    "experience_level": "Mid-level",
                                    "avg_salary": "104014.78723404255",
                                    "sd_salary": "47092.19588347584",
                                    "min_salary": "17022",
                                    "max_salary": "200000"
                                },
                                {
                                    "work_year": "2023",
                                    "job_title": "Data Scientist",
                                    "experience_level": "Senior-level",
                                    "avg_salary": "167741.16387959867",
                                    "sd_salary": "55245.91927208759",
                                    "min_salary": "38631",
                                    "max_salary": "370000"
                                },
                                {
                                    "work_year": "2023",
                                    "job_title": "Data Scientist",
                                    "experience_level": "Executive-level",
                                    "avg_salary": "187875",
                                    "sd_salary": "58955.16775954043",
                                    "min_salary": "100000",
                                    "max_salary": "300000"
                                },
                                {
                                    "work_year": "2022",
                                    "job_title": "Data Analyst",
                                    "experience_level": "Entry-level",
                                    "avg_salary": "49971.89473684211",
                                    "sd_salary": "36042.61518581509",
                                    "min_salary": "6359",
                                    "max_salary": "150000"
                                },
                                {
                                    "work_year": "2022",
                                    "job_title": "Data Analyst",
                                    "experience_level": "Mid-level",
                                    "avg_salary": "105486.3875",
                                    "sd_salary": "59059.24647324231",
                                    "min_salary": "5723",
                                    "max_salary": "430967"
                                },
                                {
                                    "work_year": "2022",
                                    "job_title": "Data Analyst",
                                    "experience_level": "Senior-level",
                                    "avg_salary": "114062.08571428571",
                                    "sd_salary": "35033.14780775769",
                                    "min_salary": "36773",
                                    "max_salary": "236600"
                                },
                                {
                                    "work_year": "2022",
                                    "job_title": "Data Analyst",
                                    "experience_level": "Executive-level",
                                    "avg_salary": "120000",
                                    "sd_salary": "14142.13562373095",
                                    "min_salary": "110000",
                                    "max_salary": "130000"
                                },
                                {
                                    "work_year": "2022",
                                    "job_title": "Data Engineer",
                                    "experience_level": "Mid-level",
                                    "avg_salary": "100644.68085106384",
                                    "sd_salary": "41743.52289289863",
                                    "min_salary": "24000",
                                    "max_salary": "260000"
                                },
                                {
                                    "work_year": "2022",
                                    "job_title": "Data Engineer",
                                    "experience_level": "Entry-level",
                                    "avg_salary": "108741.24",
                                    "sd_salary": "43305.58559073722",
                                    "min_salary": "43096",
                                    "max_salary": "160000"
                                },
                                {
                                    "work_year": "2022",
                                    "job_title": "Data Engineer",
                                    "experience_level": "Senior-level",
                                    "avg_salary": "148323.7605633803",
                                    "sd_salary": "51459.19006651061",
                                    "min_salary": "25000",
                                    "max_salary": "315000"
                                },
                                {
                                    "work_year": "2022",
                                    "job_title": "Data Engineer",
                                    "experience_level": "Executive-level",
                                    "avg_salary": "234700",
                                    "sd_salary": "62705.07279196918",
                                    "min_salary": "116100",
                                    "max_salary": "324000"
                                },
                                {
                                    "work_year": "2022",
                                    "job_title": "Data Scientist",
                                    "experience_level": "Entry-level",
                                    "avg_salary": "81272.44827586207",
                                    "sd_salary": "44669.85523465158",
                                    "min_salary": "17684",
                                    "max_salary": "180000"
                                },
                                {
                                    "work_year": "2022",
                                    "job_title": "Data Scientist",
                                    "experience_level": "Mid-level",
                                    "avg_salary": "97502.75324675324",
                                    "sd_salary": "44970.27985358067",
                                    "min_salary": "10000",
                                    "max_salary": "225000"
                                },
                                {
                                    "work_year": "2022",
                                    "job_title": "Data Scientist",
                                    "experience_level": "Executive-level",
                                    "avg_salary": "144500",
                                    "sd_salary": "20506.096654409877",
                                    "min_salary": "130000",
                                    "max_salary": "159000"
                                },
                                {
                                    "work_year": "2022",
                                    "job_title": "Data Scientist",
                                    "experience_level": "Senior-level",
                                    "avg_salary": "151931.5185185185",
                                    "sd_salary": "47870.50140250808",
                                    "min_salary": "37824",
                                    "max_salary": "350000"
                                },
                                {
                                    "work_year": "2021",
                                    "job_title": "Data Analyst",
                                    "experience_level": "Entry-level",
                                    "avg_salary": "55926.28571428572",
                                    "sd_salary": "26052.378226144632",
                                    "min_salary": "10354",
                                    "max_salary": "90000"
                                },
                                {
                                    "work_year": "2021",
                                    "job_title": "Data Analyst",
                                    "experience_level": "Mid-level",
                                    "avg_salary": "75427.875",
                                    "sd_salary": "34367.83787387563",
                                    "min_salary": "16904",
                                    "max_salary": "135000"
                                },
                                {
                                    "work_year": "2021",
                                    "job_title": "Data Analyst",
                                    "experience_level": "Senior-level",
                                    "avg_salary": "96769.5",
                                    "sd_salary": "55075.60181332565",
                                    "min_salary": "50000",
                                    "max_salary": "200000"
                                },
                                {
                                    "work_year": "2021",
                                    "job_title": "Data Engineer",
                                    "experience_level": "Entry-level",
                                    "avg_salary": "52494.666666666664",
                                    "sd_salary": "23677.310030209657",
                                    "min_salary": "21637",
                                    "max_salary": "80000"
                                },
                                {
                                    "work_year": "2021",
                                    "job_title": "Data Engineer",
                                    "experience_level": "Mid-level",
                                    "avg_salary": "81468.47619047618",
                                    "sd_salary": "53244.49762991388",
                                    "min_salary": "12103",
                                    "max_salary": "200000"
                                },
                                {
                                    "work_year": "2021",
                                    "job_title": "Data Engineer",
                                    "experience_level": "Senior-level",
                                    "avg_salary": "140326.45454545456",
                                    "sd_salary": "36164.46279253608",
                                    "min_salary": "76833",
                                    "max_salary": "200000"
                                },
                                {
                                    "work_year": "2021",
                                    "job_title": "Data Scientist",
                                    "experience_level": "Entry-level",
                                    "avg_salary": "58583.9",
                                    "sd_salary": "32010.218116685457",
                                    "min_salary": "13400",
                                    "max_salary": "100000"
                                },
                                {
                                    "work_year": "2021",
                                    "job_title": "Data Scientist",
                                    "experience_level": "Mid-level",
                                    "avg_salary": "74809.76923076923",
                                    "sd_salary": "46168.548418426755",
                                    "min_salary": "5679",
                                    "max_salary": "160000"
                                },
                                {
                                    "work_year": "2021",
                                    "job_title": "Data Scientist",
                                    "experience_level": "Senior-level",
                                    "avg_salary": "87071.25",
                                    "sd_salary": "46973.82600905073",
                                    "min_salary": "20171",
                                    "max_salary": "165000"
                                },
                                {
                                    "work_year": "2020",
                                    "job_title": "Data Analyst",
                                    "experience_level": "Entry-level",
                                    "avg_salary": "40376.2",
                                    "sd_salary": "38635.90309802529",
                                    "min_salary": "6072",
                                    "max_salary": "91000"
                                },
                                {
                                    "work_year": "2020",
                                    "job_title": "Data Analyst",
                                    "experience_level": "Mid-level",
                                    "avg_salary": "46586.333333333336",
                                    "sd_salary": "38500.290392844225",
                                    "min_salary": "8000",
                                    "max_salary": "85000"
                                },
                                {
                                    "work_year": "2020",
                                    "job_title": "Data Engineer",
                                    "experience_level": "Entry-level",
                                    "avg_salary": "30854.25",
                                    "sd_salary": "20743.211023931017",
                                    "min_salary": "13493",
                                    "max_salary": "54742"
                                },
                                {
                                    "work_year": "2020",
                                    "job_title": "Data Engineer",
                                    "experience_level": "Executive-level",
                                    "avg_salary": "79833",
                                    "sd_salary": "NULL",
                                    "min_salary": "79833",
                                    "max_salary": "79833"
                                },
                                {
                                    "work_year": "2020",
                                    "job_title": "Data Engineer",
                                    "experience_level": "Senior-level",
                                    "avg_salary": "89803.33333333333",
                                    "sd_salary": "85344.55251703727",
                                    "min_salary": "33511",
                                    "max_salary": "188000"
                                },
                                {
                                    "work_year": "2020",
                                    "job_title": "Data Engineer",
                                    "experience_level": "Mid-level",
                                    "avg_salary": "94749.14285714286",
                                    "sd_salary": "26691.165544855034",
                                    "min_salary": "59303",
                                    "max_salary": "130800"
                                },
                                {
                                    "work_year": "2020",
                                    "job_title": "Data Scientist",
                                    "experience_level": "Entry-level",
                                    "avg_salary": "54983.333333333336",
                                    "sd_salary": "28087.587619207643",
                                    "min_salary": "21669",
                                    "max_salary": "105000"
                                },
                                {
                                    "work_year": "2020",
                                    "job_title": "Data Scientist",
                                    "experience_level": "Mid-level",
                                    "avg_salary": "71256",
                                    "sd_salary": "35724.45451507973",
                                    "min_salary": "35735",
                                    "max_salary": "138350"
                                },
                                {
                                    "work_year": "2020",
                                    "job_title": "Data Scientist",
                                    "experience_level": "Senior-level",
                                    "avg_salary": "172916.25",
                                    "sd_salary": "160779.83216887",
                                    "min_salary": "68428",
                                    "max_salary": "412000"
                                }
                            ]
                        },
                        "text/html": [
                            "<table>",
                            "<tr><th>work_year</th><th>job_title</th><th>experience_level</th><th>avg_salary</th><th>sd_salary</th><th>min_salary</th><th>max_salary</th></tr>",
                            "<tr><td>2023</td><td>Data Analyst</td><td>Entry-level</td><td>69523.1875</td><td>25352.525613752325</td><td>17779</td><td>150000</td></tr>",
                            "<tr><td>2023</td><td>Data Analyst</td><td>Mid-level</td><td>102252.40789473684</td><td>37276.282325424254</td><td>42533</td><td>206000</td></tr>",
                            "<tr><td>2023</td><td>Data Analyst</td><td>Senior-level</td><td>125788.94472361809</td><td>46342.60531351689</td><td>15806</td><td>385000</td></tr>",
                            "<tr><td>2023</td><td>Data Engineer</td><td>Entry-level</td><td>93027.3870967742</td><td>41700.8309914622</td><td>12000</td><td>160000</td></tr>",
                            "<tr><td>2023</td><td>Data Engineer</td><td>Mid-level</td><td>119405.67469879518</td><td>42755.70880698869</td><td>48289</td><td>260000</td></tr>",
                            "<tr><td>2023</td><td>Data Engineer</td><td>Senior-level</td><td>159132.20916905443</td><td>53249.62741663757</td><td>37558</td><td>310000</td></tr>",
                            "<tr><td>2023</td><td>Data Engineer</td><td>Executive-level</td><td>203898.22222222222</td><td>63508.79964005487</td><td>106500</td><td>310000</td></tr>",
                            "<tr><td>2023</td><td>Data Scientist</td><td>Entry-level</td><td>78459.42857142857</td><td>55556.99461982094</td><td>9727</td><td>190000</td></tr>",
                            "<tr><td>2023</td><td>Data Scientist</td><td>Mid-level</td><td>104014.78723404255</td><td>47092.19588347584</td><td>17022</td><td>200000</td></tr>",
                            "<tr><td>2023</td><td>Data Scientist</td><td>Senior-level</td><td>167741.16387959867</td><td>55245.91927208759</td><td>38631</td><td>370000</td></tr>",
                            "<tr><td>2023</td><td>Data Scientist</td><td>Executive-level</td><td>187875</td><td>58955.16775954043</td><td>100000</td><td>300000</td></tr>",
                            "<tr><td>2022</td><td>Data Analyst</td><td>Entry-level</td><td>49971.89473684211</td><td>36042.61518581509</td><td>6359</td><td>150000</td></tr>",
                            "<tr><td>2022</td><td>Data Analyst</td><td>Mid-level</td><td>105486.3875</td><td>59059.24647324231</td><td>5723</td><td>430967</td></tr>",
                            "<tr><td>2022</td><td>Data Analyst</td><td>Senior-level</td><td>114062.08571428571</td><td>35033.14780775769</td><td>36773</td><td>236600</td></tr>",
                            "<tr><td>2022</td><td>Data Analyst</td><td>Executive-level</td><td>120000</td><td>14142.13562373095</td><td>110000</td><td>130000</td></tr>",
                            "<tr><td>2022</td><td>Data Engineer</td><td>Mid-level</td><td>100644.68085106384</td><td>41743.52289289863</td><td>24000</td><td>260000</td></tr>",
                            "<tr><td>2022</td><td>Data Engineer</td><td>Entry-level</td><td>108741.24</td><td>43305.58559073722</td><td>43096</td><td>160000</td></tr>",
                            "<tr><td>2022</td><td>Data Engineer</td><td>Senior-level</td><td>148323.7605633803</td><td>51459.19006651061</td><td>25000</td><td>315000</td></tr>",
                            "<tr><td>2022</td><td>Data Engineer</td><td>Executive-level</td><td>234700</td><td>62705.07279196918</td><td>116100</td><td>324000</td></tr>",
                            "<tr><td>2022</td><td>Data Scientist</td><td>Entry-level</td><td>81272.44827586207</td><td>44669.85523465158</td><td>17684</td><td>180000</td></tr>",
                            "<tr><td>2022</td><td>Data Scientist</td><td>Mid-level</td><td>97502.75324675324</td><td>44970.27985358067</td><td>10000</td><td>225000</td></tr>",
                            "<tr><td>2022</td><td>Data Scientist</td><td>Executive-level</td><td>144500</td><td>20506.096654409877</td><td>130000</td><td>159000</td></tr>",
                            "<tr><td>2022</td><td>Data Scientist</td><td>Senior-level</td><td>151931.5185185185</td><td>47870.50140250808</td><td>37824</td><td>350000</td></tr>",
                            "<tr><td>2021</td><td>Data Analyst</td><td>Entry-level</td><td>55926.28571428572</td><td>26052.378226144632</td><td>10354</td><td>90000</td></tr>",
                            "<tr><td>2021</td><td>Data Analyst</td><td>Mid-level</td><td>75427.875</td><td>34367.83787387563</td><td>16904</td><td>135000</td></tr>",
                            "<tr><td>2021</td><td>Data Analyst</td><td>Senior-level</td><td>96769.5</td><td>55075.60181332565</td><td>50000</td><td>200000</td></tr>",
                            "<tr><td>2021</td><td>Data Engineer</td><td>Entry-level</td><td>52494.666666666664</td><td>23677.310030209657</td><td>21637</td><td>80000</td></tr>",
                            "<tr><td>2021</td><td>Data Engineer</td><td>Mid-level</td><td>81468.47619047618</td><td>53244.49762991388</td><td>12103</td><td>200000</td></tr>",
                            "<tr><td>2021</td><td>Data Engineer</td><td>Senior-level</td><td>140326.45454545456</td><td>36164.46279253608</td><td>76833</td><td>200000</td></tr>",
                            "<tr><td>2021</td><td>Data Scientist</td><td>Entry-level</td><td>58583.9</td><td>32010.218116685457</td><td>13400</td><td>100000</td></tr>",
                            "<tr><td>2021</td><td>Data Scientist</td><td>Mid-level</td><td>74809.76923076923</td><td>46168.548418426755</td><td>5679</td><td>160000</td></tr>",
                            "<tr><td>2021</td><td>Data Scientist</td><td>Senior-level</td><td>87071.25</td><td>46973.82600905073</td><td>20171</td><td>165000</td></tr>",
                            "<tr><td>2020</td><td>Data Analyst</td><td>Entry-level</td><td>40376.2</td><td>38635.90309802529</td><td>6072</td><td>91000</td></tr>",
                            "<tr><td>2020</td><td>Data Analyst</td><td>Mid-level</td><td>46586.333333333336</td><td>38500.290392844225</td><td>8000</td><td>85000</td></tr>",
                            "<tr><td>2020</td><td>Data Engineer</td><td>Entry-level</td><td>30854.25</td><td>20743.211023931017</td><td>13493</td><td>54742</td></tr>",
                            "<tr><td>2020</td><td>Data Engineer</td><td>Executive-level</td><td>79833</td><td>NULL</td><td>79833</td><td>79833</td></tr>",
                            "<tr><td>2020</td><td>Data Engineer</td><td>Senior-level</td><td>89803.33333333333</td><td>85344.55251703727</td><td>33511</td><td>188000</td></tr>",
                            "<tr><td>2020</td><td>Data Engineer</td><td>Mid-level</td><td>94749.14285714286</td><td>26691.165544855034</td><td>59303</td><td>130800</td></tr>",
                            "<tr><td>2020</td><td>Data Scientist</td><td>Entry-level</td><td>54983.333333333336</td><td>28087.587619207643</td><td>21669</td><td>105000</td></tr>",
                            "<tr><td>2020</td><td>Data Scientist</td><td>Mid-level</td><td>71256</td><td>35724.45451507973</td><td>35735</td><td>138350</td></tr>",
                            "<tr><td>2020</td><td>Data Scientist</td><td>Senior-level</td><td>172916.25</td><td>160779.83216887</td><td>68428</td><td>412000</td></tr>",
                            "</table>"
                        ]
                    }
                }
            ],
            "execution_count": 32
        },
        {
            "cell_type": "markdown",
            "source": [
                "Let us explore the mean salary, standard deviation and number of professionals based on their employment types.\n",
                "\n",
                "**<mark>My observation</mark>:** Full time data professionals earn more. I honestly thought contract professionals earn more."
            ],
            "metadata": {
                "language": "sql",
                "azdata_cell_guid": "7d74439f-cbf9-4cba-800b-f032635ea91e"
            },
            "attachments": {}
        },
        {
            "cell_type": "code",
            "source": [
                "SELECT\temployment_type,\r\n",
                "\t\tAVG(salary_in_usd) AS avg_salary,\r\n",
                "\t\tSTDEV(salary_in_usd) AS sd_salary,\r\n",
                "\t\tCOUNT(*) AS num_professionals\r\n",
                "FROM Salaries\r\n",
                "GROUP BY employment_type\r\n",
                "ORDER BY 2 DESC"
            ],
            "metadata": {
                "language": "sql",
                "azdata_cell_guid": "988214b8-1491-430e-b381-1d3a49acc4fc"
            },
            "outputs": [
                {
                    "output_type": "display_data",
                    "data": {
                        "text/html": "(4 rows affected)"
                    },
                    "metadata": {}
                },
                {
                    "output_type": "display_data",
                    "data": {
                        "text/html": "Total execution time: 00:00:00.045"
                    },
                    "metadata": {}
                },
                {
                    "output_type": "execute_result",
                    "metadata": {},
                    "execution_count": 33,
                    "data": {
                        "application/vnd.dataresource+json": {
                            "schema": {
                                "fields": [
                                    {
                                        "name": "employment_type"
                                    },
                                    {
                                        "name": "avg_salary"
                                    },
                                    {
                                        "name": "sd_salary"
                                    },
                                    {
                                        "name": "num_professionals"
                                    }
                                ]
                            },
                            "data": [
                                {
                                    "employment_type": "Full-time",
                                    "avg_salary": "138314.1995696611",
                                    "sd_salary": "62452.17761328118",
                                    "num_professionals": "3718"
                                },
                                {
                                    "employment_type": "Contract",
                                    "avg_salary": "113446.9",
                                    "sd_salary": "130176.74684183125",
                                    "num_professionals": "10"
                                },
                                {
                                    "employment_type": "Freelance",
                                    "avg_salary": "51807.8",
                                    "sd_salary": "29458.87933600552",
                                    "num_professionals": "10"
                                },
                                {
                                    "employment_type": "Part-time",
                                    "avg_salary": "39533.705882352944",
                                    "sd_salary": "38312.14518068113",
                                    "num_professionals": "17"
                                }
                            ]
                        },
                        "text/html": [
                            "<table>",
                            "<tr><th>employment_type</th><th>avg_salary</th><th>sd_salary</th><th>num_professionals</th></tr>",
                            "<tr><td>Full-time</td><td>138314.1995696611</td><td>62452.17761328118</td><td>3718</td></tr>",
                            "<tr><td>Contract</td><td>113446.9</td><td>130176.74684183125</td><td>10</td></tr>",
                            "<tr><td>Freelance</td><td>51807.8</td><td>29458.87933600552</td><td>10</td></tr>",
                            "<tr><td>Part-time</td><td>39533.705882352944</td><td>38312.14518068113</td><td>17</td></tr>",
                            "</table>"
                        ]
                    }
                }
            ],
            "execution_count": 33
        },
        {
            "cell_type": "markdown",
            "source": [
                "On average, how much will you earn in 2023 if you work for a US based company?\n",
                "\n",
                "**<mark>My observation</mark>:** Wow, US-based companies pay DS more than DE. Amazing! With this, can I say"
            ],
            "metadata": {
                "language": "sql",
                "azdata_cell_guid": "82af19ea-96c3-4583-aac6-df881317b16f"
            },
            "attachments": {}
        },
        {
            "cell_type": "code",
            "source": [
                "SELECT\tsal.job_title,\r\n",
                "\t\tsal.experience_level,\r\n",
                "\t\tAVG(sal.salary_in_usd) AS avg_salary,\r\n",
                "\t\tcon.CountryName AS company_location\r\n",
                "FROM CountryCodes con\r\n",
                "JOIN Salaries sal\r\n",
                "ON con.Code = sal.company_location\r\n",
                "GROUP BY sal.company_location, con.CountryName, experience_level, job_title, work_year\r\n",
                "HAVING work_year = 2023\r\n",
                "\tAND company_location = 'US' \r\n",
                "\tAND job_title IN ('Data Scientist', 'Data Engineer', 'Data Analyst')\r\n",
                "ORDER BY 1, 3"
            ],
            "metadata": {
                "language": "sql",
                "azdata_cell_guid": "9f994cac-3682-4816-a869-df2e070f90e0"
            },
            "outputs": [
                {
                    "output_type": "display_data",
                    "data": {
                        "text/html": "(11 rows affected)"
                    },
                    "metadata": {}
                },
                {
                    "output_type": "display_data",
                    "data": {
                        "text/html": "Total execution time: 00:00:00.249"
                    },
                    "metadata": {}
                },
                {
                    "output_type": "execute_result",
                    "metadata": {},
                    "execution_count": 34,
                    "data": {
                        "application/vnd.dataresource+json": {
                            "schema": {
                                "fields": [
                                    {
                                        "name": "job_title"
                                    },
                                    {
                                        "name": "experience_level"
                                    },
                                    {
                                        "name": "avg_salary"
                                    },
                                    {
                                        "name": "company_location"
                                    }
                                ]
                            },
                            "data": [
                                {
                                    "job_title": "Data Analyst",
                                    "experience_level": "Entry-level",
                                    "avg_salary": "73665.5172413793",
                                    "company_location": "United States of America"
                                },
                                {
                                    "job_title": "Data Analyst",
                                    "experience_level": "Mid-level",
                                    "avg_salary": "111056.55172413793",
                                    "company_location": "United States of America"
                                },
                                {
                                    "job_title": "Data Analyst",
                                    "experience_level": "Senior-level",
                                    "avg_salary": "129346.26595744681",
                                    "company_location": "United States of America"
                                },
                                {
                                    "job_title": "Data Engineer",
                                    "experience_level": "Entry-level",
                                    "avg_salary": "101000",
                                    "company_location": "United States of America"
                                },
                                {
                                    "job_title": "Data Engineer",
                                    "experience_level": "Mid-level",
                                    "avg_salary": "128464.07352941176",
                                    "company_location": "United States of America"
                                },
                                {
                                    "job_title": "Data Engineer",
                                    "experience_level": "Senior-level",
                                    "avg_salary": "160405.01470588235",
                                    "company_location": "United States of America"
                                },
                                {
                                    "job_title": "Data Engineer",
                                    "experience_level": "Executive-level",
                                    "avg_salary": "203898.22222222222",
                                    "company_location": "United States of America"
                                },
                                {
                                    "job_title": "Data Scientist",
                                    "experience_level": "Entry-level",
                                    "avg_salary": "108835.25",
                                    "company_location": "United States of America"
                                },
                                {
                                    "job_title": "Data Scientist",
                                    "experience_level": "Mid-level",
                                    "avg_salary": "132479.64285714287",
                                    "company_location": "United States of America"
                                },
                                {
                                    "job_title": "Data Scientist",
                                    "experience_level": "Senior-level",
                                    "avg_salary": "172593.97407407407",
                                    "company_location": "United States of America"
                                },
                                {
                                    "job_title": "Data Scientist",
                                    "experience_level": "Executive-level",
                                    "avg_salary": "187875",
                                    "company_location": "United States of America"
                                }
                            ]
                        },
                        "text/html": [
                            "<table>",
                            "<tr><th>job_title</th><th>experience_level</th><th>avg_salary</th><th>company_location</th></tr>",
                            "<tr><td>Data Analyst</td><td>Entry-level</td><td>73665.5172413793</td><td>United States of America</td></tr>",
                            "<tr><td>Data Analyst</td><td>Mid-level</td><td>111056.55172413793</td><td>United States of America</td></tr>",
                            "<tr><td>Data Analyst</td><td>Senior-level</td><td>129346.26595744681</td><td>United States of America</td></tr>",
                            "<tr><td>Data Engineer</td><td>Entry-level</td><td>101000</td><td>United States of America</td></tr>",
                            "<tr><td>Data Engineer</td><td>Mid-level</td><td>128464.07352941176</td><td>United States of America</td></tr>",
                            "<tr><td>Data Engineer</td><td>Senior-level</td><td>160405.01470588235</td><td>United States of America</td></tr>",
                            "<tr><td>Data Engineer</td><td>Executive-level</td><td>203898.22222222222</td><td>United States of America</td></tr>",
                            "<tr><td>Data Scientist</td><td>Entry-level</td><td>108835.25</td><td>United States of America</td></tr>",
                            "<tr><td>Data Scientist</td><td>Mid-level</td><td>132479.64285714287</td><td>United States of America</td></tr>",
                            "<tr><td>Data Scientist</td><td>Senior-level</td><td>172593.97407407407</td><td>United States of America</td></tr>",
                            "<tr><td>Data Scientist</td><td>Executive-level</td><td>187875</td><td>United States of America</td></tr>",
                            "</table>"
                        ]
                    }
                }
            ],
            "execution_count": 34
        },
        {
            "cell_type": "markdown",
            "source": [
                "In the world of data, working remotely is now a norm. Let us determine how many professionals who work remotely.\n",
                "\n",
                "**<mark>My observation</mark>**: Apparently, I was wrong. There are more on-site job."
            ],
            "metadata": {
                "azdata_cell_guid": "811d78eb-cd2c-4e1a-aba6-0813cd173f34"
            },
            "attachments": {}
        },
        {
            "cell_type": "code",
            "source": [
                "SELECT\tlocation_type, \r\n",
                "\t\tCOUNT(*) AS num_professionals\r\n",
                "FROM Salaries\r\n",
                "GROUP BY location_type\r\n",
                "ORDER BY 2 DESC"
            ],
            "metadata": {
                "azdata_cell_guid": "918fa15b-774e-4ec5-9636-11be6f8774a8",
                "language": "sql"
            },
            "outputs": [
                {
                    "output_type": "display_data",
                    "data": {
                        "text/html": "(3 rows affected)"
                    },
                    "metadata": {}
                },
                {
                    "output_type": "display_data",
                    "data": {
                        "text/html": "Total execution time: 00:00:00.075"
                    },
                    "metadata": {}
                },
                {
                    "output_type": "execute_result",
                    "metadata": {},
                    "execution_count": 35,
                    "data": {
                        "application/vnd.dataresource+json": {
                            "schema": {
                                "fields": [
                                    {
                                        "name": "location_type"
                                    },
                                    {
                                        "name": "num_professionals"
                                    }
                                ]
                            },
                            "data": [
                                {
                                    "location_type": "On-site",
                                    "num_professionals": "1923"
                                },
                                {
                                    "location_type": "Remote",
                                    "num_professionals": "1643"
                                },
                                {
                                    "location_type": "Hybrid",
                                    "num_professionals": "189"
                                }
                            ]
                        },
                        "text/html": [
                            "<table>",
                            "<tr><th>location_type</th><th>num_professionals</th></tr>",
                            "<tr><td>On-site</td><td>1923</td></tr>",
                            "<tr><td>Remote</td><td>1643</td></tr>",
                            "<tr><td>Hybrid</td><td>189</td></tr>",
                            "</table>"
                        ]
                    }
                }
            ],
            "execution_count": 35
        },
        {
            "cell_type": "markdown",
            "source": [
                "Let us determine the modal job model for DS, DE and DA\n",
                "\n",
                "**<mark>My observation</mark>**: There are more on-site DS, DE and DA jobs.🤷🏾‍♂️"
            ],
            "metadata": {
                "language": "sql",
                "azdata_cell_guid": "88dec370-93f0-45b5-8519-96018926816a"
            },
            "attachments": {}
        },
        {
            "cell_type": "code",
            "source": [
                "SELECT\tjob_title, \r\n",
                "\t\t(SELECT TOP 1 location_type\r\n",
                "\t\t\tFROM (\r\n",
                "\t\t\t\tSELECT\tlocation_type,\r\n",
                "\t\t\t\t\t\tROW_NUMBER () OVER (ORDER BY COUNT(*) DESC) AS row_number\r\n",
                "\t\t\t\tFROM DSSalary..Salaries\r\n",
                "\t\t\t\tWHERE job_title = t.job_title\r\n",
                "\t\t\t\tGROUP BY location_type\r\n",
                "\t\t\t) AS ranked\r\n",
                "\t\t\tWHERE row_number = 1) AS mode_job_model,\r\n",
                "        AVG(remote_ratio) AS avg_remote_ratio\r\n",
                "FROM DSSalary..Salaries AS t\r\n",
                "GROUP BY job_title \r\n",
                "HAVING job_title IN ('Data Scientist', 'Data Engineer', 'Data Analyst')\r\n",
                "ORDER BY 2 DESC"
            ],
            "metadata": {
                "language": "sql",
                "azdata_cell_guid": "f142c452-1f74-4ade-a593-9cb9583b9f38"
            },
            "outputs": [
                {
                    "output_type": "display_data",
                    "data": {
                        "text/html": "(3 rows affected)"
                    },
                    "metadata": {}
                },
                {
                    "output_type": "display_data",
                    "data": {
                        "text/html": "Total execution time: 00:00:00.368"
                    },
                    "metadata": {}
                },
                {
                    "output_type": "execute_result",
                    "metadata": {},
                    "execution_count": 36,
                    "data": {
                        "application/vnd.dataresource+json": {
                            "schema": {
                                "fields": [
                                    {
                                        "name": "job_title"
                                    },
                                    {
                                        "name": "mode_job_model"
                                    },
                                    {
                                        "name": "avg_remote_ratio"
                                    }
                                ]
                            },
                            "data": [
                                {
                                    "job_title": "Data Engineer",
                                    "mode_job_model": "On-site",
                                    "avg_remote_ratio": "42"
                                },
                                {
                                    "job_title": "Data Analyst",
                                    "mode_job_model": "On-site",
                                    "avg_remote_ratio": "45"
                                },
                                {
                                    "job_title": "Data Scientist",
                                    "mode_job_model": "On-site",
                                    "avg_remote_ratio": "47"
                                }
                            ]
                        },
                        "text/html": [
                            "<table>",
                            "<tr><th>job_title</th><th>mode_job_model</th><th>avg_remote_ratio</th></tr>",
                            "<tr><td>Data Engineer</td><td>On-site</td><td>42</td></tr>",
                            "<tr><td>Data Analyst</td><td>On-site</td><td>45</td></tr>",
                            "<tr><td>Data Scientist</td><td>On-site</td><td>47</td></tr>",
                            "</table>"
                        ]
                    }
                }
            ],
            "execution_count": 36
        }
    ]
}